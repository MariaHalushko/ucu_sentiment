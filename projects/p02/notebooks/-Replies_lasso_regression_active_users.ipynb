{
 "cells": [
  {
   "cell_type": "code",
   "execution_count": 28,
   "metadata": {
    "collapsed": true,
    "deletable": true,
    "editable": true
   },
   "outputs": [],
   "source": [
    "import pandas as pd\n",
    "import re"
   ]
  },
  {
   "cell_type": "code",
   "execution_count": 29,
   "metadata": {
    "collapsed": true,
    "deletable": true,
    "editable": true
   },
   "outputs": [],
   "source": [
    "data=pd.read_csv('data_prepared_time.csv')"
   ]
  },
  {
   "cell_type": "code",
   "execution_count": 40,
   "metadata": {
    "collapsed": false,
    "deletable": true,
    "editable": true
   },
   "outputs": [
    {
     "data": {
      "text/html": [
       "<div>\n",
       "<style>\n",
       "    .dataframe thead tr:only-child th {\n",
       "        text-align: right;\n",
       "    }\n",
       "\n",
       "    .dataframe thead th {\n",
       "        text-align: left;\n",
       "    }\n",
       "\n",
       "    .dataframe tbody tr th {\n",
       "        vertical-align: top;\n",
       "    }\n",
       "</style>\n",
       "<table border=\"1\" class=\"dataframe\">\n",
       "  <thead>\n",
       "    <tr style=\"text-align: right;\">\n",
       "      <th></th>\n",
       "      <th>Unnamed: 0</th>\n",
       "      <th>Unnamed: 0.1</th>\n",
       "      <th>thread_id</th>\n",
       "      <th>thread_dayofweek</th>\n",
       "      <th>thread_hour</th>\n",
       "      <th>thread_timestamp</th>\n",
       "      <th>text</th>\n",
       "      <th>time_deltas</th>\n",
       "      <th>reply_hour</th>\n",
       "      <th>reply_dayofweek</th>\n",
       "      <th>channel</th>\n",
       "      <th>reply_text</th>\n",
       "      <th>reply_timestamp</th>\n",
       "      <th>users</th>\n",
       "    </tr>\n",
       "  </thead>\n",
       "  <tbody>\n",
       "    <tr>\n",
       "      <th>0</th>\n",
       "      <td>0</td>\n",
       "      <td>0</td>\n",
       "      <td>12781837000</td>\n",
       "      <td>3</td>\n",
       "      <td>9</td>\n",
       "      <td>2017-01-19 09:06:10</td>\n",
       "      <td>&lt;@U1G303UTW&gt; get laid with Bayes</td>\n",
       "      <td>193</td>\n",
       "      <td>9</td>\n",
       "      <td>3</td>\n",
       "      <td>_call_4_collaboration</td>\n",
       "      <td>&lt;@U30Q72KLJ&gt; он же вроде умер</td>\n",
       "      <td>2017-01-19 09:09:23</td>\n",
       "      <td>189</td>\n",
       "    </tr>\n",
       "    <tr>\n",
       "      <th>1</th>\n",
       "      <td>1</td>\n",
       "      <td>1</td>\n",
       "      <td>12781879600</td>\n",
       "      <td>3</td>\n",
       "      <td>9</td>\n",
       "      <td>2017-01-19 09:13:16</td>\n",
       "      <td>Чатег, я вас разочарую - сообщение в дейтинге ...</td>\n",
       "      <td>57</td>\n",
       "      <td>9</td>\n",
       "      <td>3</td>\n",
       "      <td>_call_4_collaboration</td>\n",
       "      <td>&lt;@U2TP5JELS&gt; а как ты проверял?</td>\n",
       "      <td>2017-01-19 09:14:13</td>\n",
       "      <td>189</td>\n",
       "    </tr>\n",
       "    <tr>\n",
       "      <th>2</th>\n",
       "      <td>2</td>\n",
       "      <td>2</td>\n",
       "      <td>12782089400</td>\n",
       "      <td>3</td>\n",
       "      <td>9</td>\n",
       "      <td>2017-01-19 09:48:14</td>\n",
       "      <td>Из `{&amp;lt;женское_имя&amp;gt;; уменьшительное, ласк...</td>\n",
       "      <td>49</td>\n",
       "      <td>9</td>\n",
       "      <td>3</td>\n",
       "      <td>_call_4_collaboration</td>\n",
       "      <td>`{&amp;lt;женское_имя&amp;gt;; уменьшительное, ласкате...</td>\n",
       "      <td>2017-01-19 09:49:03</td>\n",
       "      <td>189</td>\n",
       "    </tr>\n",
       "    <tr>\n",
       "      <th>3</th>\n",
       "      <td>3</td>\n",
       "      <td>3</td>\n",
       "      <td>12844819600</td>\n",
       "      <td>3</td>\n",
       "      <td>16</td>\n",
       "      <td>2017-01-26 16:03:16</td>\n",
       "      <td>Гарри Селдон в восхищении от вашего проекта.</td>\n",
       "      <td>408</td>\n",
       "      <td>16</td>\n",
       "      <td>3</td>\n",
       "      <td>_call_4_collaboration</td>\n",
       "      <td>notabene: ну все-таки надо добавить был бы</td>\n",
       "      <td>2017-01-26 16:10:04</td>\n",
       "      <td>189</td>\n",
       "    </tr>\n",
       "    <tr>\n",
       "      <th>4</th>\n",
       "      <td>4</td>\n",
       "      <td>4</td>\n",
       "      <td>12844915400</td>\n",
       "      <td>3</td>\n",
       "      <td>16</td>\n",
       "      <td>2017-01-26 16:19:14</td>\n",
       "      <td>а можете рассказать, в чем заключается вообще ...</td>\n",
       "      <td>30652</td>\n",
       "      <td>0</td>\n",
       "      <td>4</td>\n",
       "      <td>_call_4_collaboration</td>\n",
       "      <td>katya: позже напишу, как будет время:)</td>\n",
       "      <td>2017-01-27 00:50:06</td>\n",
       "      <td>189</td>\n",
       "    </tr>\n",
       "  </tbody>\n",
       "</table>\n",
       "</div>"
      ],
      "text/plain": [
       "   Unnamed: 0  Unnamed: 0.1    thread_id  thread_dayofweek  thread_hour  \\\n",
       "0           0             0  12781837000                 3            9   \n",
       "1           1             1  12781879600                 3            9   \n",
       "2           2             2  12782089400                 3            9   \n",
       "3           3             3  12844819600                 3           16   \n",
       "4           4             4  12844915400                 3           16   \n",
       "\n",
       "      thread_timestamp                                               text  \\\n",
       "0  2017-01-19 09:06:10                   <@U1G303UTW> get laid with Bayes   \n",
       "1  2017-01-19 09:13:16  Чатег, я вас разочарую - сообщение в дейтинге ...   \n",
       "2  2017-01-19 09:48:14  Из `{&lt;женское_имя&gt;; уменьшительное, ласк...   \n",
       "3  2017-01-26 16:03:16       Гарри Селдон в восхищении от вашего проекта.   \n",
       "4  2017-01-26 16:19:14  а можете рассказать, в чем заключается вообще ...   \n",
       "\n",
       "   time_deltas  reply_hour  reply_dayofweek                channel  \\\n",
       "0          193           9                3  _call_4_collaboration   \n",
       "1           57           9                3  _call_4_collaboration   \n",
       "2           49           9                3  _call_4_collaboration   \n",
       "3          408          16                3  _call_4_collaboration   \n",
       "4        30652           0                4  _call_4_collaboration   \n",
       "\n",
       "                                          reply_text      reply_timestamp  \\\n",
       "0                      <@U30Q72KLJ> он же вроде умер  2017-01-19 09:09:23   \n",
       "1                    <@U2TP5JELS> а как ты проверял?  2017-01-19 09:14:13   \n",
       "2  `{&lt;женское_имя&gt;; уменьшительное, ласкате...  2017-01-19 09:49:03   \n",
       "3         notabene: ну все-таки надо добавить был бы  2017-01-26 16:10:04   \n",
       "4             katya: позже напишу, как будет время:)  2017-01-27 00:50:06   \n",
       "\n",
       "   users  \n",
       "0    189  \n",
       "1    189  \n",
       "2    189  \n",
       "3    189  \n",
       "4    189  "
      ]
     },
     "execution_count": 40,
     "metadata": {},
     "output_type": "execute_result"
    }
   ],
   "source": [
    "data.head()"
   ]
  },
  {
   "cell_type": "code",
   "execution_count": 31,
   "metadata": {
    "collapsed": true,
    "deletable": true,
    "editable": true
   },
   "outputs": [],
   "source": [
    "active=pd.read_csv('active_users1.csv')"
   ]
  },
  {
   "cell_type": "code",
   "execution_count": 32,
   "metadata": {
    "collapsed": false,
    "deletable": true,
    "editable": true
   },
   "outputs": [
    {
     "data": {
      "text/html": [
       "<div>\n",
       "<style>\n",
       "    .dataframe thead tr:only-child th {\n",
       "        text-align: right;\n",
       "    }\n",
       "\n",
       "    .dataframe thead th {\n",
       "        text-align: left;\n",
       "    }\n",
       "\n",
       "    .dataframe tbody tr th {\n",
       "        vertical-align: top;\n",
       "    }\n",
       "</style>\n",
       "<table border=\"1\" class=\"dataframe\">\n",
       "  <thead>\n",
       "    <tr style=\"text-align: right;\">\n",
       "      <th></th>\n",
       "      <th>channel</th>\n",
       "      <th>users</th>\n",
       "    </tr>\n",
       "  </thead>\n",
       "  <tbody>\n",
       "    <tr>\n",
       "      <th>0</th>\n",
       "      <td>_call_4_collaboration</td>\n",
       "      <td>189</td>\n",
       "    </tr>\n",
       "    <tr>\n",
       "      <th>1</th>\n",
       "      <td>_general</td>\n",
       "      <td>176</td>\n",
       "    </tr>\n",
       "    <tr>\n",
       "      <th>2</th>\n",
       "      <td>_general_en</td>\n",
       "      <td>11</td>\n",
       "    </tr>\n",
       "    <tr>\n",
       "      <th>3</th>\n",
       "      <td>_jobs</td>\n",
       "      <td>573</td>\n",
       "    </tr>\n",
       "    <tr>\n",
       "      <th>4</th>\n",
       "      <td>_meetings</td>\n",
       "      <td>422</td>\n",
       "    </tr>\n",
       "  </tbody>\n",
       "</table>\n",
       "</div>"
      ],
      "text/plain": [
       "                 channel  users\n",
       "0  _call_4_collaboration    189\n",
       "1               _general    176\n",
       "2            _general_en     11\n",
       "3                  _jobs    573\n",
       "4              _meetings    422"
      ]
     },
     "execution_count": 32,
     "metadata": {},
     "output_type": "execute_result"
    }
   ],
   "source": [
    "active.head()"
   ]
  },
  {
   "cell_type": "code",
   "execution_count": 39,
   "metadata": {
    "collapsed": false
   },
   "outputs": [],
   "source": [
    "data = pd.merge(data, active, on=\"channel\", how=\"left\")"
   ]
  },
  {
   "cell_type": "code",
   "execution_count": 41,
   "metadata": {
    "collapsed": true,
    "deletable": true,
    "editable": true
   },
   "outputs": [],
   "source": [
    "#просто перевожу назву каналу в числа, щоб можно було його як фічу використовувати \n",
    "channel_names = data['channel'].unique()\n",
    "channel_names_dictionary = {}\n",
    "\n",
    "for i, channel in enumerate(channel_names):\n",
    "    channel_names_dictionary[channel] = i\n",
    "    \n",
    "data['channel'] = pd.Series([channel_names_dictionary[channel] for channel in data['channel']], dtype=int)"
   ]
  },
  {
   "cell_type": "code",
   "execution_count": 42,
   "metadata": {
    "collapsed": true,
    "deletable": true,
    "editable": true
   },
   "outputs": [],
   "source": [
    "from sklearn.feature_extraction.text import CountVectorizer, TfidfVectorizer\n",
    "\n"
   ]
  },
  {
   "cell_type": "code",
   "execution_count": 74,
   "metadata": {
    "collapsed": false,
    "deletable": true,
    "editable": true
   },
   "outputs": [
    {
     "data": {
      "text/html": [
       "<div>\n",
       "<style>\n",
       "    .dataframe thead tr:only-child th {\n",
       "        text-align: right;\n",
       "    }\n",
       "\n",
       "    .dataframe thead th {\n",
       "        text-align: left;\n",
       "    }\n",
       "\n",
       "    .dataframe tbody tr th {\n",
       "        vertical-align: top;\n",
       "    }\n",
       "</style>\n",
       "<table border=\"1\" class=\"dataframe\">\n",
       "  <thead>\n",
       "    <tr style=\"text-align: right;\">\n",
       "      <th></th>\n",
       "      <th>Unnamed: 0</th>\n",
       "      <th>Unnamed: 0.1</th>\n",
       "      <th>thread_id</th>\n",
       "      <th>thread_dayofweek</th>\n",
       "      <th>thread_hour</th>\n",
       "      <th>thread_timestamp</th>\n",
       "      <th>text</th>\n",
       "      <th>time_deltas</th>\n",
       "      <th>reply_hour</th>\n",
       "      <th>reply_dayofweek</th>\n",
       "      <th>channel</th>\n",
       "      <th>reply_text</th>\n",
       "      <th>reply_timestamp</th>\n",
       "      <th>users</th>\n",
       "    </tr>\n",
       "  </thead>\n",
       "  <tbody>\n",
       "    <tr>\n",
       "      <th>12556</th>\n",
       "      <td>13024</td>\n",
       "      <td>13024</td>\n",
       "      <td>14182366794</td>\n",
       "      <td>4</td>\n",
       "      <td>11</td>\n",
       "      <td>2017-06-30 11:27:47</td>\n",
       "      <td>Всем привет) Меня зовут Леонид. Я из Хабаровск...</td>\n",
       "      <td>3258</td>\n",
       "      <td>12</td>\n",
       "      <td>4</td>\n",
       "      <td>46</td>\n",
       "      <td>leoromanovich: привет, земляк! Я из Биробиджан...</td>\n",
       "      <td>2017-06-30 12:22:05</td>\n",
       "      <td>1065</td>\n",
       "    </tr>\n",
       "    <tr>\n",
       "      <th>12557</th>\n",
       "      <td>13025</td>\n",
       "      <td>13025</td>\n",
       "      <td>14233624149</td>\n",
       "      <td>3</td>\n",
       "      <td>9</td>\n",
       "      <td>2017-07-06 09:50:41</td>\n",
       "      <td>Всем привет. Я начинающий в этой области, сейч...</td>\n",
       "      <td>184</td>\n",
       "      <td>9</td>\n",
       "      <td>3</td>\n",
       "      <td>46</td>\n",
       "      <td>valid: привет. Без математики не бывает даже п...</td>\n",
       "      <td>2017-07-06 09:53:45</td>\n",
       "      <td>1065</td>\n",
       "    </tr>\n",
       "    <tr>\n",
       "      <th>12558</th>\n",
       "      <td>13026</td>\n",
       "      <td>13026</td>\n",
       "      <td>14234268361</td>\n",
       "      <td>3</td>\n",
       "      <td>11</td>\n",
       "      <td>2017-07-06 11:38:03</td>\n",
       "      <td>Привет всем!\\nПо жизни гоняю желтых слонов по ...</td>\n",
       "      <td>61688</td>\n",
       "      <td>4</td>\n",
       "      <td>4</td>\n",
       "      <td>46</td>\n",
       "      <td>apilipenko: и тебя завербовали!</td>\n",
       "      <td>2017-07-07 04:46:11</td>\n",
       "      <td>1065</td>\n",
       "    </tr>\n",
       "    <tr>\n",
       "      <th>12559</th>\n",
       "      <td>13027</td>\n",
       "      <td>13027</td>\n",
       "      <td>14306168862</td>\n",
       "      <td>4</td>\n",
       "      <td>19</td>\n",
       "      <td>2017-07-14 19:21:28</td>\n",
       "      <td>Всем салют! Меня зовут Володя, я из Франкфурта...</td>\n",
       "      <td>61149</td>\n",
       "      <td>12</td>\n",
       "      <td>5</td>\n",
       "      <td>46</td>\n",
       "      <td>&lt;@U698CFT53&gt; Привет из Хайдельберга!</td>\n",
       "      <td>2017-07-15 12:20:37</td>\n",
       "      <td>1065</td>\n",
       "    </tr>\n",
       "    <tr>\n",
       "      <th>12560</th>\n",
       "      <td>13028</td>\n",
       "      <td>13028</td>\n",
       "      <td>14329988190</td>\n",
       "      <td>0</td>\n",
       "      <td>13</td>\n",
       "      <td>2017-07-17 13:31:21</td>\n",
       "      <td>Привет, меня зовут Сергей. Я работаю в Дармшта...</td>\n",
       "      <td>510</td>\n",
       "      <td>13</td>\n",
       "      <td>0</td>\n",
       "      <td>46</td>\n",
       "      <td>&amp;gt;которая кстати активно набирает людей \\n\\n...</td>\n",
       "      <td>2017-07-17 13:39:51</td>\n",
       "      <td>1065</td>\n",
       "    </tr>\n",
       "  </tbody>\n",
       "</table>\n",
       "</div>"
      ],
      "text/plain": [
       "       Unnamed: 0  Unnamed: 0.1    thread_id  thread_dayofweek  thread_hour  \\\n",
       "12556       13024         13024  14182366794                 4           11   \n",
       "12557       13025         13025  14233624149                 3            9   \n",
       "12558       13026         13026  14234268361                 3           11   \n",
       "12559       13027         13027  14306168862                 4           19   \n",
       "12560       13028         13028  14329988190                 0           13   \n",
       "\n",
       "          thread_timestamp                                               text  \\\n",
       "12556  2017-06-30 11:27:47  Всем привет) Меня зовут Леонид. Я из Хабаровск...   \n",
       "12557  2017-07-06 09:50:41  Всем привет. Я начинающий в этой области, сейч...   \n",
       "12558  2017-07-06 11:38:03  Привет всем!\\nПо жизни гоняю желтых слонов по ...   \n",
       "12559  2017-07-14 19:21:28  Всем салют! Меня зовут Володя, я из Франкфурта...   \n",
       "12560  2017-07-17 13:31:21  Привет, меня зовут Сергей. Я работаю в Дармшта...   \n",
       "\n",
       "       time_deltas  reply_hour  reply_dayofweek  channel  \\\n",
       "12556         3258          12                4       46   \n",
       "12557          184           9                3       46   \n",
       "12558        61688           4                4       46   \n",
       "12559        61149          12                5       46   \n",
       "12560          510          13                0       46   \n",
       "\n",
       "                                              reply_text      reply_timestamp  \\\n",
       "12556  leoromanovich: привет, земляк! Я из Биробиджан...  2017-06-30 12:22:05   \n",
       "12557  valid: привет. Без математики не бывает даже п...  2017-07-06 09:53:45   \n",
       "12558                    apilipenko: и тебя завербовали!  2017-07-07 04:46:11   \n",
       "12559               <@U698CFT53> Привет из Хайдельберга!  2017-07-15 12:20:37   \n",
       "12560  &gt;которая кстати активно набирает людей \\n\\n...  2017-07-17 13:39:51   \n",
       "\n",
       "       users  \n",
       "12556   1065  \n",
       "12557   1065  \n",
       "12558   1065  \n",
       "12559   1065  \n",
       "12560   1065  "
      ]
     },
     "execution_count": 74,
     "metadata": {},
     "output_type": "execute_result"
    }
   ],
   "source": [
    "data.tail()"
   ]
  },
  {
   "cell_type": "code",
   "execution_count": 44,
   "metadata": {
    "collapsed": true,
    "deletable": true,
    "editable": true
   },
   "outputs": [],
   "source": [
    "# можна і прибрати цей макс_фічерс але тоді буде дуже велика матриця (50000 десь)\n",
    "cv = TfidfVectorizer(\n",
    "                    analyzer='word', # token = word\n",
    "                    ngram_range=(1,3), # only unigrams are used, (1,2) - unigrams/bigrams, ..., etc.\n",
    "                    #stop_words=['my', 'stop', 'word', 'list'], # or stop_words='english'\n",
    "                    vocabulary=None, # or vocabulary=your_own_dictionary\n",
    "                    max_df=1.0, # don't filter words by their frequency\n",
    "                    max_features=1000 # only top-1000 words will be used as columns\n",
    "                    )"
   ]
  },
  {
   "cell_type": "code",
   "execution_count": 45,
   "metadata": {
    "collapsed": true,
    "deletable": true,
    "editable": true
   },
   "outputs": [],
   "source": [
    "# формуємо матрицю, яка складається з векторів - які відповідають тексту повідомлень\n",
    "# координати вектора позначають слова\n",
    "# (розмірність вектора це кількість унікальних слів в нашому датасеті).\n",
    "transformed_texts_cv = cv.fit_transform(data['text'].values.astype('U'))"
   ]
  },
  {
   "cell_type": "code",
   "execution_count": 46,
   "metadata": {
    "collapsed": false,
    "deletable": true,
    "editable": true
   },
   "outputs": [
    {
     "name": "stdout",
     "output_type": "stream",
     "text": [
      "Obtained feature matrix X:\n",
      "[[ 0.  0.  0. ...,  0.  0.  0.]\n",
      " [ 0.  0.  0. ...,  0.  0.  0.]\n",
      " [ 0.  0.  0. ...,  0.  0.  0.]\n",
      " ..., \n",
      " [ 0.  0.  0. ...,  0.  0.  0.]\n",
      " [ 0.  0.  0. ...,  0.  0.  0.]\n",
      " [ 0.  0.  0. ...,  0.  0.  0.]] \n",
      "\n"
     ]
    }
   ],
   "source": [
    "print('Obtained feature matrix X:')\n",
    "A_cv=transformed_texts_cv.todense()\n",
    "print(transformed_texts_cv.todense(), '\\n')"
   ]
  },
  {
   "cell_type": "code",
   "execution_count": 47,
   "metadata": {
    "collapsed": false,
    "deletable": true,
    "editable": true
   },
   "outputs": [
    {
     "data": {
      "text/plain": [
       "(12561, 1000)"
      ]
     },
     "execution_count": 47,
     "metadata": {},
     "output_type": "execute_result"
    }
   ],
   "source": [
    "A_cv.shape"
   ]
  },
  {
   "cell_type": "code",
   "execution_count": 48,
   "metadata": {
    "collapsed": true,
    "deletable": true,
    "editable": true
   },
   "outputs": [],
   "source": [
    "import numpy as np\n",
    "A_cv_1=np.asarray(A_cv)"
   ]
  },
  {
   "cell_type": "code",
   "execution_count": 49,
   "metadata": {
    "collapsed": false,
    "deletable": true,
    "editable": true
   },
   "outputs": [
    {
     "data": {
      "text/plain": [
       "1000"
      ]
     },
     "execution_count": 49,
     "metadata": {},
     "output_type": "execute_result"
    }
   ],
   "source": [
    "(A_cv_1).shape[1]"
   ]
  },
  {
   "cell_type": "code",
   "execution_count": 62,
   "metadata": {
    "collapsed": false,
    "deletable": true,
    "editable": true
   },
   "outputs": [],
   "source": [
    "# ще додатоково обираю 3 фічі - день тиждня і годину коли повідомлення було написано і канал \n",
    "data1=data[['thread_dayofweek','thread_hour','channel', 'users']]"
   ]
  },
  {
   "cell_type": "code",
   "execution_count": 63,
   "metadata": {
    "collapsed": true,
    "deletable": true,
    "editable": true
   },
   "outputs": [],
   "source": [
    "A_1 = data1.as_matrix()"
   ]
  },
  {
   "cell_type": "code",
   "execution_count": 64,
   "metadata": {
    "collapsed": false,
    "deletable": true,
    "editable": true
   },
   "outputs": [
    {
     "name": "stdout",
     "output_type": "stream",
     "text": [
      "(12561, 4)\n",
      "(12561, 1000)\n"
     ]
    }
   ],
   "source": [
    "print(A_1.shape)\n",
    "print(A_cv_1.shape)"
   ]
  },
  {
   "cell_type": "code",
   "execution_count": 65,
   "metadata": {
    "collapsed": true,
    "deletable": true,
    "editable": true
   },
   "outputs": [],
   "source": [
    "#остаточно отримую свою features matrix \n",
    "A_feat=np.concatenate((A_1,A_cv_1),axis=1)"
   ]
  },
  {
   "cell_type": "code",
   "execution_count": 66,
   "metadata": {
    "collapsed": false,
    "deletable": true,
    "editable": true
   },
   "outputs": [
    {
     "data": {
      "text/plain": [
       "(12561, 1004)"
      ]
     },
     "execution_count": 66,
     "metadata": {},
     "output_type": "execute_result"
    }
   ],
   "source": [
    "A_feat.shape"
   ]
  },
  {
   "cell_type": "code",
   "execution_count": 67,
   "metadata": {
    "collapsed": false,
    "deletable": true,
    "editable": true
   },
   "outputs": [
    {
     "data": {
      "text/plain": [
       "(12561,)"
      ]
     },
     "execution_count": 67,
     "metadata": {},
     "output_type": "execute_result"
    }
   ],
   "source": [
    "# time_deltas це час(в секундах) коли відповіли на повідомлення \n",
    "data2=data['time_deltas']\n",
    "y=data2.as_matrix()\n",
    "y.shape"
   ]
  },
  {
   "cell_type": "code",
   "execution_count": 68,
   "metadata": {
    "collapsed": false,
    "deletable": true,
    "editable": true
   },
   "outputs": [
    {
     "name": "stdout",
     "output_type": "stream",
     "text": [
      "[  193    57    49 ..., 61688 61149   510]\n"
     ]
    }
   ],
   "source": [
    "print(y)"
   ]
  },
  {
   "cell_type": "code",
   "execution_count": 69,
   "metadata": {
    "collapsed": false,
    "deletable": true,
    "editable": true
   },
   "outputs": [
    {
     "data": {
      "text/plain": [
       "(12561, 1004)"
      ]
     },
     "execution_count": 69,
     "metadata": {},
     "output_type": "execute_result"
    }
   ],
   "source": [
    "A_feat.shape"
   ]
  },
  {
   "cell_type": "code",
   "execution_count": 70,
   "metadata": {
    "collapsed": false,
    "deletable": true,
    "editable": true
   },
   "outputs": [
    {
     "data": {
      "text/plain": [
       "Lasso(alpha=1, copy_X=True, fit_intercept=True, max_iter=1000,\n",
       "   normalize=False, positive=False, precompute=False, random_state=None,\n",
       "   selection='cyclic', tol=0.01, warm_start=False)"
      ]
     },
     "execution_count": 70,
     "metadata": {},
     "output_type": "execute_result"
    }
   ],
   "source": [
    "# власне треную свою модель, використовуючи lasso регресію, \n",
    "# можна спробувати ділити датасет не рандомом, а ,наприклад, тест брати все після 1 травня чи якось так \n",
    "from sklearn import linear_model\n",
    "from sklearn.model_selection import train_test_split\n",
    "\n",
    "X_train, X_test, y_train, y_test = train_test_split(A_feat, y, test_size=0.3, random_state=42)\n",
    "\n",
    "#16-18\n",
    "\n",
    "reg_1 = linear_model.Lasso(alpha = 1,max_iter=1000, tol=0.01)\n",
    "reg_1.fit(X_train, y_train)"
   ]
  },
  {
   "cell_type": "code",
   "execution_count": 71,
   "metadata": {
    "collapsed": false,
    "deletable": true,
    "editable": true
   },
   "outputs": [],
   "source": [
    "import numpy as np\n",
    "#np.sqrt(mse(y_test, reg_1.predict(X_test)))/60"
   ]
  },
  {
   "cell_type": "code",
   "execution_count": 72,
   "metadata": {
    "collapsed": false,
    "deletable": true,
    "editable": true
   },
   "outputs": [
    {
     "data": {
      "text/plain": [
       "137.0056287393885"
      ]
     },
     "execution_count": 72,
     "metadata": {},
     "output_type": "execute_result"
    }
   ],
   "source": [
    "# mae я вже дивлюся в хвилинах - шоб не так печально было)\n",
    "from sklearn.metrics import mean_absolute_error\n",
    "mean_absolute_error(y_test/60, (reg_1.predict(X_test))/60)"
   ]
  }
 ],
 "metadata": {
  "anaconda-cloud": {},
  "kernelspec": {
   "display_name": "Python [conda env:ucu-sentiment]",
   "language": "python",
   "name": "conda-env-ucu-sentiment-py"
  },
  "language_info": {
   "codemirror_mode": {
    "name": "ipython",
    "version": 3
   },
   "file_extension": ".py",
   "mimetype": "text/x-python",
   "name": "python",
   "nbconvert_exporter": "python",
   "pygments_lexer": "ipython3",
   "version": "3.5.3"
  }
 },
 "nbformat": 4,
 "nbformat_minor": 2
}
