{
 "cells": [
  {
   "cell_type": "code",
   "execution_count": 2,
   "metadata": {
    "collapsed": true
   },
   "outputs": [],
   "source": [
    "# coding=utf-8\n",
    "import re\n",
    "import pymorphy2\n",
    "import pandas as pd\n",
    "import json\n",
    "import matplotlib.pyplot as plt; plt.rcdefaults()\n",
    "import numpy as np\n",
    "from matplotlib import rc\n",
    "import matplotlib\n",
    "\n",
    "pd.set_option('display.max_rows', None)\n",
    "pd.set_option('display.max_colwidth', -1)"
   ]
  },
  {
   "cell_type": "code",
   "execution_count": 3,
   "metadata": {},
   "outputs": [],
   "source": [
    "queries = [  u'(\"подскажите\" | \"не подскажите\" |  \"не подскажете\" | \"посоветуйте\" | \"порекомендуйте\" | \"предложите\" | \"можете подсказать\" | \"посоветуй\" | \"подскажи\" | \"порекомендуй\")',\n",
    "             u'(\"ищу\" | \"разыскиваю\" | \"нужен\" | \"нужна\" | \"найдись\" | \"требуется\" | \"разыскивается\" | \"необходим\")',\n",
    "             u'(\"необходимо найти\" | \"надо найти\" | \"хочу найти\" | \"хотим найти\" | \"помогите найти\" | \"хотелось бы найти\" | \"надо сделать\" | \"хочу сделать\" | \"хотим сделать\" | \"помогите сделать\" | \"хотелось бы сделать\" | \"необходимо создать\" | \"надо создать\" | \"хочу создать\" | \"хотим создать\" | \"помогите создать\" | \"хотелось бы создать\")',\n",
    "             u'(\"в поисках\"  | \"в поиске\")',\n",
    "             u'(\"интересует\" | \"интересуемся\")',\n",
    "             u'(\"хочу\" | \"хотим\" | \"хотелось бы\" | \"планирую \" | \"планируем\" | \"собираюсь\" | \"собираемся\" | \"собралась\" | \"собрался\")',\n",
    "             u'(\"думаю\" | \"думаем\")',\n",
    "             u'(\"выбираю\" | \"выбираем\" | \"присматриваю\" | \"присматриваем\"  | \"подбираю\" | \"подбираем\" | \"подыскиваю\" | \"подыскиваем\")',\n",
    "             u'(интересует\" | \"сориентируйте\" | \"хочу\" | \"скажите\" | \"напишите\" | \"какая \" | \" сколько \")',\n",
    "             u'(\"дайте\" | \"подбросьте\"  | \"подкиньте\" | \"напишите\" | \"киньте | \"скажите\")',\n",
    "             u'(\"нужна консультация\" | \"необходима консультация\" | \"нужна помощь\" | \"нужна консультация\" | \"нужнен совет\")',\n",
    "             u'(\"поделитесь советами\" | \"поделитесь советом\" | \"поделитесь мнением\" | \"поделитесь мнениями\" | \"поделитесь опытом\" | \"поделитесь отзывами\" | \"поделитесь отзывом\" | \"поделитесь информацией\" | \"поделитесь инфой\")',\n",
    "             u'(\"помогите советом\" | \"помогите опытом\" | \"помогите разобраться\")',\n",
    "             u'(\"куда обратиться\" | \"куда обратится\" | \"где глянуть\" | \"где посмотреть\")',\n",
    "             u'(\"здесь есть\" | \"есть здесь\" | \"есть ли\" | \"нужно ли\" | \"возможно ли\" | \"есть у кого\" | \"у кого есть\" | \"кто здесь\" | \"кто тут\" | \"кто может\")',\n",
    "             u'(\"кто-нибудь\")',\n",
    "             u'(\"какие есть\" | \"какие существуют\")',\n",
    "             u'(\"встречал кто\" | \"кто встречал\" | \"кто знает\" | \"знает кто\" | \"никто не знает\" | \"что можно\" | \"что думаете\" | \"что лучше\")',\n",
    "             u'(\"еще вопрос\" | \"осваиваю\" | \"такой вопрос\" | \"проблема такая\" | \"такая проблема\" | \"возникла проблема\")',\n",
    "             u'(\"можно ли\" | \"как лучше\" | \"сталкивался кто\" | \"может кто-то\" | \"кто-то сталкивался\" | \"кто-нибудь сталкивался\")',\n",
    "             u'(\"какой движок\" | \"призываю знатоков\" | \"выдало ошибку\" | \"не могу понять\")',\n",
    "            ]            "
   ]
  },
  {
   "cell_type": "code",
   "execution_count": 4,
   "metadata": {
    "collapsed": true
   },
   "outputs": [],
   "source": [
    "def extract_keywords(part):\n",
    "    search_words = part['text'].split('|')\n",
    "    exact_keywords = []\n",
    "    for search_word in search_words:\n",
    "        quoted_word_match = re.findall('\"([^\"]*)\"', search_word)\n",
    "        if quoted_word_match:\n",
    "            exact_keywords.append(quoted_word_match[0])\n",
    "    if exact_keywords:\n",
    "        part['exact_keywords'] = exact_keywords\n",
    "    return part"
   ]
  },
  {
   "cell_type": "code",
   "execution_count": 5,
   "metadata": {
    "collapsed": true
   },
   "outputs": [],
   "source": [
    "def register_query(query):\n",
    "    parts = [{'text': t} for t in query.split(\"/\")]\n",
    "    parts = [extract_keywords(part) for part in parts]\n",
    "    return parts"
   ]
  },
  {
   "cell_type": "code",
   "execution_count": 6,
   "metadata": {
    "collapsed": true
   },
   "outputs": [],
   "source": [
    "def register_queries(queries):\n",
    "    return [register_query(query) for query in queries]"
   ]
  },
  {
   "cell_type": "code",
   "execution_count": 7,
   "metadata": {
    "collapsed": true
   },
   "outputs": [],
   "source": [
    "ordered_queries = {}\n",
    "for query in register_queries(queries):\n",
    "    if len(query) in ordered_queries:\n",
    "        ordered_queries[len(query)].append({\n",
    "            'query': query,\n",
    "        })\n",
    "    else:\n",
    "        ordered_queries[len(query)] = [{\n",
    "            'query': query,\n",
    "            }]"
   ]
  },
  {
   "cell_type": "code",
   "execution_count": 8,
   "metadata": {
    "collapsed": true
   },
   "outputs": [],
   "source": [
    "list_of_queries = register_queries(queries)"
   ]
  },
  {
   "cell_type": "code",
   "execution_count": 9,
   "metadata": {
    "collapsed": true
   },
   "outputs": [],
   "source": [
    "def match_cases(message):\n",
    "    for lists in list_of_queries:\n",
    "        if any([word in message for word in lists[0]['exact_keywords']]):\n",
    "            return message"
   ]
  },
  {
   "cell_type": "code",
   "execution_count": 14,
   "metadata": {},
   "outputs": [],
   "source": [
    "train_set = pd.read_csv(\"train_set.csv\")\n",
    "channels = ['big_data', 'datasets', 'deep_learning', 'lang_python', 'lang_r', 'mltrainings_beginners', 'nlp', 'sequences_series', 'theory_and_practice', 'visualization']\n",
    "train_set = train_set[train_set['channel'].isin(channels)]\n",
    "train_set = train_set[(train_set['timestamp'] > '2017-01-01')] #& (train_set['timestamp'] > '2016-01-01')]\n",
    "\n",
    "#train_set[1:4]\n",
    "\n",
    "users = pd.read_json('data/users.json')\n",
    "users = users.rename(columns={'id': 'user_id'})\n",
    "train_set = pd.merge(train_set, users[['user_id','real_name']], on='user_id')"
   ]
  },
  {
   "cell_type": "code",
   "execution_count": 11,
   "metadata": {
    "collapsed": true
   },
   "outputs": [],
   "source": [
    "def novice_filter(train_set):\n",
    "    idxs = train_set.apply(lambda row: True if match_cases(str(row[\"text\"])) else False, axis = 1)\n",
    "    return train_set[idxs]"
   ]
  },
  {
   "cell_type": "code",
   "execution_count": 12,
   "metadata": {},
   "outputs": [
    {
     "name": "stdout",
     "output_type": "stream",
     "text": [
      "<class 'pandas.core.frame.DataFrame'>\n",
      "Int64Index: 3235 entries, 29 to 38934\n",
      "Data columns (total 12 columns):\n",
      "Unnamed: 0          3235 non-null int64\n",
      "msg_id              3235 non-null int64\n",
      "user_id             3235 non-null object\n",
      "channel             3235 non-null object\n",
      "timestamp           3235 non-null object\n",
      "text                3235 non-null object\n",
      "main_msg            3235 non-null int64\n",
      "thread_id           3235 non-null int64\n",
      "thread_timestamp    3235 non-null object\n",
      "replies_count       3235 non-null int64\n",
      "reactions           3235 non-null object\n",
      "real_name           3234 non-null object\n",
      "dtypes: int64(5), object(7)\n",
      "memory usage: 328.6+ KB\n"
     ]
    }
   ],
   "source": [
    "novices = novice_filter(train_set)\n",
    "novices.info()"
   ]
  },
  {
   "cell_type": "code",
   "execution_count": 13,
   "metadata": {},
   "outputs": [
    {
     "name": "stderr",
     "output_type": "stream",
     "text": [
      "/home/kateryna/anaconda3/lib/python3.5/site-packages/ipykernel/__main__.py:10: FutureWarning: sort(columns=....) is deprecated, use sort_values(by=.....)\n"
     ]
    }
   ],
   "source": [
    "user_list = novices['real_name']\n",
    "frequency = {}\n",
    "for word in user_list:\n",
    "    count = frequency.get(word,0)\n",
    "    frequency[word] = count + 1\n",
    "frequency_list = frequency.keys()\n",
    "novices_list = pd.DataFrame(list(frequency.items()),\n",
    "                      columns=['name','count'])\n",
    "\n",
    "novices_list = novices_list.sort('count', ascending=False)\n",
    "novices_list = novices_list.to_csv('novices_list_2017.csv', sep='\\t', encoding='utf-8')"
   ]
  },
  {
   "cell_type": "code",
   "execution_count": null,
   "metadata": {
    "collapsed": true
   },
   "outputs": [],
   "source": []
  }
 ],
 "metadata": {
  "anaconda-cloud": {},
  "kernelspec": {
   "display_name": "Python [default]",
   "language": "python",
   "name": "python3"
  },
  "language_info": {
   "codemirror_mode": {
    "name": "ipython",
    "version": 3
   },
   "file_extension": ".py",
   "mimetype": "text/x-python",
   "name": "python",
   "nbconvert_exporter": "python",
   "pygments_lexer": "ipython3",
   "version": "3.5.2"
  }
 },
 "nbformat": 4,
 "nbformat_minor": 2
}
