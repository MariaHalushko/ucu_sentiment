{
 "cells": [
  {
   "cell_type": "code",
   "execution_count": 2,
   "metadata": {
    "collapsed": true
   },
   "outputs": [],
   "source": [
    "import pandas as pd\n",
    "import re"
   ]
  },
  {
   "cell_type": "code",
   "execution_count": 3,
   "metadata": {
    "collapsed": true
   },
   "outputs": [],
   "source": [
    "data=pd.read_csv('data_prepared_time.csv')"
   ]
  },
  {
   "cell_type": "code",
   "execution_count": 4,
   "metadata": {},
   "outputs": [
    {
     "data": {
      "text/html": [
       "<div>\n",
       "<style>\n",
       "    .dataframe thead tr:only-child th {\n",
       "        text-align: right;\n",
       "    }\n",
       "\n",
       "    .dataframe thead th {\n",
       "        text-align: left;\n",
       "    }\n",
       "\n",
       "    .dataframe tbody tr th {\n",
       "        vertical-align: top;\n",
       "    }\n",
       "</style>\n",
       "<table border=\"1\" class=\"dataframe\">\n",
       "  <thead>\n",
       "    <tr style=\"text-align: right;\">\n",
       "      <th></th>\n",
       "      <th>Unnamed: 0</th>\n",
       "      <th>Unnamed: 0.1</th>\n",
       "      <th>thread_id</th>\n",
       "      <th>thread_dayofweek</th>\n",
       "      <th>thread_hour</th>\n",
       "      <th>thread_timestamp</th>\n",
       "      <th>text</th>\n",
       "      <th>time_deltas</th>\n",
       "      <th>reply_hour</th>\n",
       "      <th>reply_dayofweek</th>\n",
       "      <th>channel</th>\n",
       "      <th>reply_text</th>\n",
       "      <th>reply_timestamp</th>\n",
       "    </tr>\n",
       "  </thead>\n",
       "  <tbody>\n",
       "    <tr>\n",
       "      <th>0</th>\n",
       "      <td>0</td>\n",
       "      <td>0</td>\n",
       "      <td>12781837000</td>\n",
       "      <td>3</td>\n",
       "      <td>9</td>\n",
       "      <td>2017-01-19 09:06:10</td>\n",
       "      <td>&lt;@U1G303UTW&gt; get laid with Bayes</td>\n",
       "      <td>193</td>\n",
       "      <td>9</td>\n",
       "      <td>3</td>\n",
       "      <td>_call_4_collaboration</td>\n",
       "      <td>&lt;@U30Q72KLJ&gt; он же вроде умер</td>\n",
       "      <td>2017-01-19 09:09:23</td>\n",
       "    </tr>\n",
       "    <tr>\n",
       "      <th>1</th>\n",
       "      <td>1</td>\n",
       "      <td>1</td>\n",
       "      <td>12781879600</td>\n",
       "      <td>3</td>\n",
       "      <td>9</td>\n",
       "      <td>2017-01-19 09:13:16</td>\n",
       "      <td>Чатег, я вас разочарую - сообщение в дейтинге ...</td>\n",
       "      <td>57</td>\n",
       "      <td>9</td>\n",
       "      <td>3</td>\n",
       "      <td>_call_4_collaboration</td>\n",
       "      <td>&lt;@U2TP5JELS&gt; а как ты проверял?</td>\n",
       "      <td>2017-01-19 09:14:13</td>\n",
       "    </tr>\n",
       "    <tr>\n",
       "      <th>2</th>\n",
       "      <td>2</td>\n",
       "      <td>2</td>\n",
       "      <td>12782089400</td>\n",
       "      <td>3</td>\n",
       "      <td>9</td>\n",
       "      <td>2017-01-19 09:48:14</td>\n",
       "      <td>Из `{&amp;lt;женское_имя&amp;gt;; уменьшительное, ласк...</td>\n",
       "      <td>49</td>\n",
       "      <td>9</td>\n",
       "      <td>3</td>\n",
       "      <td>_call_4_collaboration</td>\n",
       "      <td>`{&amp;lt;женское_имя&amp;gt;; уменьшительное, ласкате...</td>\n",
       "      <td>2017-01-19 09:49:03</td>\n",
       "    </tr>\n",
       "    <tr>\n",
       "      <th>3</th>\n",
       "      <td>3</td>\n",
       "      <td>3</td>\n",
       "      <td>12844819600</td>\n",
       "      <td>3</td>\n",
       "      <td>16</td>\n",
       "      <td>2017-01-26 16:03:16</td>\n",
       "      <td>Гарри Селдон в восхищении от вашего проекта.</td>\n",
       "      <td>408</td>\n",
       "      <td>16</td>\n",
       "      <td>3</td>\n",
       "      <td>_call_4_collaboration</td>\n",
       "      <td>notabene: ну все-таки надо добавить был бы</td>\n",
       "      <td>2017-01-26 16:10:04</td>\n",
       "    </tr>\n",
       "    <tr>\n",
       "      <th>4</th>\n",
       "      <td>4</td>\n",
       "      <td>4</td>\n",
       "      <td>12844915400</td>\n",
       "      <td>3</td>\n",
       "      <td>16</td>\n",
       "      <td>2017-01-26 16:19:14</td>\n",
       "      <td>а можете рассказать, в чем заключается вообще ...</td>\n",
       "      <td>30652</td>\n",
       "      <td>0</td>\n",
       "      <td>4</td>\n",
       "      <td>_call_4_collaboration</td>\n",
       "      <td>katya: позже напишу, как будет время:)</td>\n",
       "      <td>2017-01-27 00:50:06</td>\n",
       "    </tr>\n",
       "  </tbody>\n",
       "</table>\n",
       "</div>"
      ],
      "text/plain": [
       "   Unnamed: 0  Unnamed: 0.1    thread_id  thread_dayofweek  thread_hour  \\\n",
       "0           0             0  12781837000                 3            9   \n",
       "1           1             1  12781879600                 3            9   \n",
       "2           2             2  12782089400                 3            9   \n",
       "3           3             3  12844819600                 3           16   \n",
       "4           4             4  12844915400                 3           16   \n",
       "\n",
       "      thread_timestamp                                               text  \\\n",
       "0  2017-01-19 09:06:10                   <@U1G303UTW> get laid with Bayes   \n",
       "1  2017-01-19 09:13:16  Чатег, я вас разочарую - сообщение в дейтинге ...   \n",
       "2  2017-01-19 09:48:14  Из `{&lt;женское_имя&gt;; уменьшительное, ласк...   \n",
       "3  2017-01-26 16:03:16       Гарри Селдон в восхищении от вашего проекта.   \n",
       "4  2017-01-26 16:19:14  а можете рассказать, в чем заключается вообще ...   \n",
       "\n",
       "   time_deltas  reply_hour  reply_dayofweek                channel  \\\n",
       "0          193           9                3  _call_4_collaboration   \n",
       "1           57           9                3  _call_4_collaboration   \n",
       "2           49           9                3  _call_4_collaboration   \n",
       "3          408          16                3  _call_4_collaboration   \n",
       "4        30652           0                4  _call_4_collaboration   \n",
       "\n",
       "                                          reply_text      reply_timestamp  \n",
       "0                      <@U30Q72KLJ> он же вроде умер  2017-01-19 09:09:23  \n",
       "1                    <@U2TP5JELS> а как ты проверял?  2017-01-19 09:14:13  \n",
       "2  `{&lt;женское_имя&gt;; уменьшительное, ласкате...  2017-01-19 09:49:03  \n",
       "3         notabene: ну все-таки надо добавить был бы  2017-01-26 16:10:04  \n",
       "4             katya: позже напишу, как будет время:)  2017-01-27 00:50:06  "
      ]
     },
     "execution_count": 4,
     "metadata": {},
     "output_type": "execute_result"
    }
   ],
   "source": [
    "data.head()"
   ]
  },
  {
   "cell_type": "code",
   "execution_count": 5,
   "metadata": {
    "collapsed": true
   },
   "outputs": [],
   "source": [
    "#просто перевожу назву каналу в числа, щоб можно було його як фічу використовувати \n",
    "channel_names = data['channel'].unique()\n",
    "channel_names_dictionary = {}\n",
    "\n",
    "for i, channel in enumerate(channel_names):\n",
    "    channel_names_dictionary[channel] = i\n",
    "    \n",
    "data['channel'] = pd.Series([channel_names_dictionary[channel] for channel in data['channel']], dtype=int)"
   ]
  },
  {
   "cell_type": "code",
   "execution_count": 6,
   "metadata": {
    "collapsed": true
   },
   "outputs": [],
   "source": [
    "from sklearn.feature_extraction.text import CountVectorizer\n",
    "\n"
   ]
  },
  {
   "cell_type": "code",
   "execution_count": 7,
   "metadata": {},
   "outputs": [
    {
     "data": {
      "text/html": [
       "<div>\n",
       "<style>\n",
       "    .dataframe thead tr:only-child th {\n",
       "        text-align: right;\n",
       "    }\n",
       "\n",
       "    .dataframe thead th {\n",
       "        text-align: left;\n",
       "    }\n",
       "\n",
       "    .dataframe tbody tr th {\n",
       "        vertical-align: top;\n",
       "    }\n",
       "</style>\n",
       "<table border=\"1\" class=\"dataframe\">\n",
       "  <thead>\n",
       "    <tr style=\"text-align: right;\">\n",
       "      <th></th>\n",
       "      <th>Unnamed: 0</th>\n",
       "      <th>Unnamed: 0.1</th>\n",
       "      <th>thread_id</th>\n",
       "      <th>thread_dayofweek</th>\n",
       "      <th>thread_hour</th>\n",
       "      <th>thread_timestamp</th>\n",
       "      <th>text</th>\n",
       "      <th>time_deltas</th>\n",
       "      <th>reply_hour</th>\n",
       "      <th>reply_dayofweek</th>\n",
       "      <th>channel</th>\n",
       "      <th>reply_text</th>\n",
       "      <th>reply_timestamp</th>\n",
       "    </tr>\n",
       "  </thead>\n",
       "  <tbody>\n",
       "    <tr>\n",
       "      <th>0</th>\n",
       "      <td>0</td>\n",
       "      <td>0</td>\n",
       "      <td>12781837000</td>\n",
       "      <td>3</td>\n",
       "      <td>9</td>\n",
       "      <td>2017-01-19 09:06:10</td>\n",
       "      <td>&lt;@U1G303UTW&gt; get laid with Bayes</td>\n",
       "      <td>193</td>\n",
       "      <td>9</td>\n",
       "      <td>3</td>\n",
       "      <td>0</td>\n",
       "      <td>&lt;@U30Q72KLJ&gt; он же вроде умер</td>\n",
       "      <td>2017-01-19 09:09:23</td>\n",
       "    </tr>\n",
       "    <tr>\n",
       "      <th>1</th>\n",
       "      <td>1</td>\n",
       "      <td>1</td>\n",
       "      <td>12781879600</td>\n",
       "      <td>3</td>\n",
       "      <td>9</td>\n",
       "      <td>2017-01-19 09:13:16</td>\n",
       "      <td>Чатег, я вас разочарую - сообщение в дейтинге ...</td>\n",
       "      <td>57</td>\n",
       "      <td>9</td>\n",
       "      <td>3</td>\n",
       "      <td>0</td>\n",
       "      <td>&lt;@U2TP5JELS&gt; а как ты проверял?</td>\n",
       "      <td>2017-01-19 09:14:13</td>\n",
       "    </tr>\n",
       "    <tr>\n",
       "      <th>2</th>\n",
       "      <td>2</td>\n",
       "      <td>2</td>\n",
       "      <td>12782089400</td>\n",
       "      <td>3</td>\n",
       "      <td>9</td>\n",
       "      <td>2017-01-19 09:48:14</td>\n",
       "      <td>Из `{&amp;lt;женское_имя&amp;gt;; уменьшительное, ласк...</td>\n",
       "      <td>49</td>\n",
       "      <td>9</td>\n",
       "      <td>3</td>\n",
       "      <td>0</td>\n",
       "      <td>`{&amp;lt;женское_имя&amp;gt;; уменьшительное, ласкате...</td>\n",
       "      <td>2017-01-19 09:49:03</td>\n",
       "    </tr>\n",
       "    <tr>\n",
       "      <th>3</th>\n",
       "      <td>3</td>\n",
       "      <td>3</td>\n",
       "      <td>12844819600</td>\n",
       "      <td>3</td>\n",
       "      <td>16</td>\n",
       "      <td>2017-01-26 16:03:16</td>\n",
       "      <td>Гарри Селдон в восхищении от вашего проекта.</td>\n",
       "      <td>408</td>\n",
       "      <td>16</td>\n",
       "      <td>3</td>\n",
       "      <td>0</td>\n",
       "      <td>notabene: ну все-таки надо добавить был бы</td>\n",
       "      <td>2017-01-26 16:10:04</td>\n",
       "    </tr>\n",
       "    <tr>\n",
       "      <th>4</th>\n",
       "      <td>4</td>\n",
       "      <td>4</td>\n",
       "      <td>12844915400</td>\n",
       "      <td>3</td>\n",
       "      <td>16</td>\n",
       "      <td>2017-01-26 16:19:14</td>\n",
       "      <td>а можете рассказать, в чем заключается вообще ...</td>\n",
       "      <td>30652</td>\n",
       "      <td>0</td>\n",
       "      <td>4</td>\n",
       "      <td>0</td>\n",
       "      <td>katya: позже напишу, как будет время:)</td>\n",
       "      <td>2017-01-27 00:50:06</td>\n",
       "    </tr>\n",
       "  </tbody>\n",
       "</table>\n",
       "</div>"
      ],
      "text/plain": [
       "   Unnamed: 0  Unnamed: 0.1    thread_id  thread_dayofweek  thread_hour  \\\n",
       "0           0             0  12781837000                 3            9   \n",
       "1           1             1  12781879600                 3            9   \n",
       "2           2             2  12782089400                 3            9   \n",
       "3           3             3  12844819600                 3           16   \n",
       "4           4             4  12844915400                 3           16   \n",
       "\n",
       "      thread_timestamp                                               text  \\\n",
       "0  2017-01-19 09:06:10                   <@U1G303UTW> get laid with Bayes   \n",
       "1  2017-01-19 09:13:16  Чатег, я вас разочарую - сообщение в дейтинге ...   \n",
       "2  2017-01-19 09:48:14  Из `{&lt;женское_имя&gt;; уменьшительное, ласк...   \n",
       "3  2017-01-26 16:03:16       Гарри Селдон в восхищении от вашего проекта.   \n",
       "4  2017-01-26 16:19:14  а можете рассказать, в чем заключается вообще ...   \n",
       "\n",
       "   time_deltas  reply_hour  reply_dayofweek  channel  \\\n",
       "0          193           9                3        0   \n",
       "1           57           9                3        0   \n",
       "2           49           9                3        0   \n",
       "3          408          16                3        0   \n",
       "4        30652           0                4        0   \n",
       "\n",
       "                                          reply_text      reply_timestamp  \n",
       "0                      <@U30Q72KLJ> он же вроде умер  2017-01-19 09:09:23  \n",
       "1                    <@U2TP5JELS> а как ты проверял?  2017-01-19 09:14:13  \n",
       "2  `{&lt;женское_имя&gt;; уменьшительное, ласкате...  2017-01-19 09:49:03  \n",
       "3         notabene: ну все-таки надо добавить был бы  2017-01-26 16:10:04  \n",
       "4             katya: позже напишу, как будет время:)  2017-01-27 00:50:06  "
      ]
     },
     "execution_count": 7,
     "metadata": {},
     "output_type": "execute_result"
    }
   ],
   "source": [
    "data.head()"
   ]
  },
  {
   "cell_type": "code",
   "execution_count": 6,
   "metadata": {
    "collapsed": true
   },
   "outputs": [],
   "source": [
    "# можна і прибрати цей макс_фічерс але тоді буде дуже велика матриця (50000 десь)\n",
    "cv = CountVectorizer(\n",
    "                    analyzer='word', # token = word\n",
    "                    ngram_range=(1,1), # only unigrams are used, (1,2) - unigrams/bigrams, ..., etc.\n",
    "                    #stop_words=['my', 'stop', 'word', 'list'], # or stop_words='english'\n",
    "                    vocabulary=None, # or vocabulary=your_own_dictionary\n",
    "                    max_df=1.0, # don't filter words by their frequency\n",
    "                    max_features=1000 # only top-1000 words will be used as columns\n",
    "                    )"
   ]
  },
  {
   "cell_type": "code",
   "execution_count": 7,
   "metadata": {
    "collapsed": true
   },
   "outputs": [],
   "source": [
    "# формуємо матрицю, яка складається з векторів - які відповідають тексту повідомлень\n",
    "# координати вектора позначають слова\n",
    "# (розмірність вектора це кількість унікальних слів в нашому датасеті).\n",
    "transformed_texts_cv = cv.fit_transform(data['text'].values.astype('U'))"
   ]
  },
  {
   "cell_type": "code",
   "execution_count": 8,
   "metadata": {},
   "outputs": [
    {
     "name": "stdout",
     "output_type": "stream",
     "text": [
      "Obtained feature matrix X:\n",
      "[[0 0 0 ..., 0 0 0]\n",
      " [0 0 0 ..., 0 0 0]\n",
      " [0 0 0 ..., 0 0 0]\n",
      " ..., \n",
      " [0 0 0 ..., 0 0 0]\n",
      " [0 0 0 ..., 0 0 0]\n",
      " [0 0 0 ..., 0 0 0]] \n",
      "\n"
     ]
    }
   ],
   "source": [
    "print('Obtained feature matrix X:')\n",
    "A_cv=transformed_texts_cv.todense()\n",
    "print(transformed_texts_cv.todense(), '\\n')"
   ]
  },
  {
   "cell_type": "code",
   "execution_count": 9,
   "metadata": {},
   "outputs": [
    {
     "data": {
      "text/plain": [
       "(12561, 1000)"
      ]
     },
     "execution_count": 9,
     "metadata": {},
     "output_type": "execute_result"
    }
   ],
   "source": [
    "A_cv.shape"
   ]
  },
  {
   "cell_type": "code",
   "execution_count": 10,
   "metadata": {
    "collapsed": true
   },
   "outputs": [],
   "source": [
    "import numpy as np\n",
    "A_cv_1=np.asarray(A_cv)"
   ]
  },
  {
   "cell_type": "code",
   "execution_count": 12,
   "metadata": {},
   "outputs": [
    {
     "data": {
      "text/plain": [
       "1000"
      ]
     },
     "execution_count": 12,
     "metadata": {},
     "output_type": "execute_result"
    }
   ],
   "source": [
    "(A_cv_1).shape[1]"
   ]
  },
  {
   "cell_type": "code",
   "execution_count": 13,
   "metadata": {
    "collapsed": true
   },
   "outputs": [],
   "source": [
    "# ще додатоково обираю 3 фічі - день тиждня і годину коли повідомлення було написано і канал \n",
    "data1=data[['thread_dayofweek','thread_hour','channel']]"
   ]
  },
  {
   "cell_type": "code",
   "execution_count": 14,
   "metadata": {
    "collapsed": true
   },
   "outputs": [],
   "source": [
    "A_1 = data1.as_matrix()"
   ]
  },
  {
   "cell_type": "code",
   "execution_count": 15,
   "metadata": {},
   "outputs": [
    {
     "name": "stdout",
     "output_type": "stream",
     "text": [
      "(12561, 3)\n",
      "(12561, 1000)\n"
     ]
    }
   ],
   "source": [
    "print(A_1.shape)\n",
    "print(A_cv_1.shape)"
   ]
  },
  {
   "cell_type": "code",
   "execution_count": 16,
   "metadata": {
    "collapsed": true
   },
   "outputs": [],
   "source": [
    "#остаточно отримую свою features matrix \n",
    "A_feat=np.concatenate((A_1,A_cv_1),axis=1)"
   ]
  },
  {
   "cell_type": "code",
   "execution_count": 17,
   "metadata": {},
   "outputs": [
    {
     "data": {
      "text/plain": [
       "(12561, 1003)"
      ]
     },
     "execution_count": 17,
     "metadata": {},
     "output_type": "execute_result"
    }
   ],
   "source": [
    "A_feat.shape"
   ]
  },
  {
   "cell_type": "code",
   "execution_count": 18,
   "metadata": {},
   "outputs": [
    {
     "data": {
      "text/plain": [
       "(12561,)"
      ]
     },
     "execution_count": 18,
     "metadata": {},
     "output_type": "execute_result"
    }
   ],
   "source": [
    "# time_deltas це час(в секундах) коли відповіли на повідомлення \n",
    "data2=data['time_deltas']\n",
    "y=data2.as_matrix()\n",
    "y.shape"
   ]
  },
  {
   "cell_type": "code",
   "execution_count": 19,
   "metadata": {},
   "outputs": [
    {
     "name": "stdout",
     "output_type": "stream",
     "text": [
      "[  193    57    49 ..., 61688 61149   510]\n"
     ]
    }
   ],
   "source": [
    "print(y)"
   ]
  },
  {
   "cell_type": "code",
   "execution_count": 20,
   "metadata": {},
   "outputs": [
    {
     "data": {
      "text/plain": [
       "(12561, 1003)"
      ]
     },
     "execution_count": 20,
     "metadata": {},
     "output_type": "execute_result"
    }
   ],
   "source": [
    "A_feat.shape"
   ]
  },
  {
   "cell_type": "code",
   "execution_count": 26,
   "metadata": {},
   "outputs": [
    {
     "data": {
      "text/plain": [
       "Lasso(alpha=0.1, copy_X=True, fit_intercept=True, max_iter=1000,\n",
       "   normalize=False, positive=False, precompute=False, random_state=None,\n",
       "   selection='cyclic', tol=0.0001, warm_start=False)"
      ]
     },
     "execution_count": 26,
     "metadata": {},
     "output_type": "execute_result"
    }
   ],
   "source": [
    "# власне треную свою модель, використовуючи lasso регресію, \n",
    "# можна спробувати ділити датасет не рандомом, а ,наприклад, тест брати все після 1 травня чи якось так \n",
    "from sklearn import linear_model\n",
    "from sklearn.model_selection import train_test_split\n",
    "\n",
    "X_train, X_test, y_train, y_test = train_test_split(A_feat, y, test_size=0.3, random_state=42)\n",
    "\n",
    "#16-18\n",
    "\n",
    "reg_1 = linear_model.Lasso(alpha = 0.1,max_iter=1000)\n",
    "reg_1.fit(X_train, y_train)"
   ]
  },
  {
   "cell_type": "code",
   "execution_count": 32,
   "metadata": {},
   "outputs": [
    {
     "data": {
      "text/plain": [
       "251.21297201988153"
      ]
     },
     "execution_count": 32,
     "metadata": {},
     "output_type": "execute_result"
    }
   ],
   "source": [
    "import numpy as np\n",
    "#np.sqrt(mse(y_test, reg_1.predict(X_test)))/60"
   ]
  },
  {
   "cell_type": "code",
   "execution_count": 33,
   "metadata": {},
   "outputs": [
    {
     "data": {
      "text/plain": [
       "149.70963097455001"
      ]
     },
     "execution_count": 33,
     "metadata": {},
     "output_type": "execute_result"
    }
   ],
   "source": [
    "# mae я вже дивлюся в хвилинах - шоб не так печально было)\n",
    "from sklearn.metrics import mean_absolute_error\n",
    "mean_absolute_error(y_test/60, (reg_1.predict(X_test))/60)"
   ]
  },
  {
   "cell_type": "code",
   "execution_count": 28,
   "metadata": {},
   "outputs": [
    {
     "data": {
      "text/plain": [
       "-0.21257323028281849"
      ]
     },
     "execution_count": 28,
     "metadata": {},
     "output_type": "execute_result"
    }
   ],
   "source": [
    "r2_score(y_test, reg_1.predict(X_test))"
   ]
  }
 ],
 "metadata": {
  "kernelspec": {
   "display_name": "Python [conda env:py3]",
   "language": "python",
   "name": "conda-env-py3-py"
  },
  "language_info": {
   "codemirror_mode": {
    "name": "ipython",
    "version": 3
   },
   "file_extension": ".py",
   "mimetype": "text/x-python",
   "name": "python",
   "nbconvert_exporter": "python",
   "pygments_lexer": "ipython3",
   "version": "3.5.3"
  }
 },
 "nbformat": 4,
 "nbformat_minor": 2
}
