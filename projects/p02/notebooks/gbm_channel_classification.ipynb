{
 "cells": [
  {
   "cell_type": "code",
   "execution_count": 2,
   "metadata": {},
   "outputs": [
    {
     "name": "stderr",
     "output_type": "stream",
     "text": [
      "/Users/andrewsklyar/miniconda3/envs/py3/lib/python3.5/site-packages/sklearn/cross_validation.py:44: DeprecationWarning: This module was deprecated in version 0.18 in favor of the model_selection module into which all the refactored classes and functions are moved. Also note that the interface of the new CV iterators are different from that of this module. This module will be removed in 0.20.\n",
      "  \"This module will be removed in 0.20.\", DeprecationWarning)\n"
     ]
    }
   ],
   "source": [
    "import string\n",
    "import pandas as pd\n",
    "import numpy as np\n",
    "import os\n",
    "import re\n",
    "from datetime import date\n",
    "from fastnumbers import isfloat, isint\n",
    "import xgboost as xgb\n",
    "import lightgbm as lgb\n",
    "\n",
    "dir_train = '../data'\n",
    "\n",
    "mappings = {\n",
    "    'career': 0,\n",
    "    'theory_and_practice': 1,\n",
    "    'deep_learning': 2,\n",
    "    'lang_python': 3,\n",
    "    '_meetings': 4,\n",
    "    'kaggle_crackers': 5,\n",
    "    'big_data': 6,\n",
    "    'lang_r': 7,\n",
    "    'nlp': 8,\n",
    "    'welcome': 9,\n",
    "    'datasets': 10,\n",
    "    'bayesian': 11\n",
    "}\n",
    "\n",
    "\n",
    "# parameters initialization\n",
    "VALIDATION_SPLIT = 0.1\n",
    "RANDOM_SEED = 42\n",
    "\n",
    "data = pd.read_csv(os.path.join(dir_train, 'train_set.csv'), usecols=range(1,11), parse_dates=['timestamp', 'thread_timestamp'])\n",
    "data = data[\n",
    "    data.channel.isin(['career', 'big_data', 'deep_learning', 'kaggle_crackers',\n",
    "           'lang_python',  'lang_r', 'nlp', 'theory_and_practice', 'welcome', 'bayesian', '_meetings', 'datasets']) &\n",
    "    data.main_msg\n",
    "]\n",
    "\n",
    "date_before = date(2017, 4, 1)\n",
    "train = data[data['timestamp'] <= date_before]\n",
    "val = data[data['timestamp'] > date_before]\n",
    "\n",
    "train_data = train[['channel', 'text']].reset_index()[['channel', 'text']]\n",
    "train_data['channel'] = train_data.channel.map(mappings)\n",
    "train_data = train_data.sort_values('channel').reset_index()[['channel', 'text']]\n",
    "\n",
    "val_data = val[['channel', 'text']].reset_index()[['channel', 'text']]\n",
    "val_data['channel'] = val_data.channel.map(mappings)\n",
    "val_data = val_data.sort_values('channel').reset_index()[['channel', 'text']]\n",
    "\n",
    "train_data.text = train_data.text.astype(str)\\\n",
    "    .apply(lambda x: re.sub('(<\\S+>:?)|(\\s?:\\S+:\\s?)|(&gt;)|([\\w\\.]*@[\\w\\.]*)', ' ', x))\\\n",
    "    .apply(lambda x: re.sub('\\s+', ' ', x))\n",
    "train_data = train_data[~train_data.text.apply(lambda x: isfloat(x) or isint(x) or len(x) < 20)]\n",
    "\n",
    "val_data.text = val_data.text.astype(str)\\\n",
    "    .apply(lambda x: re.sub('(<\\S+>:?)|(\\s?:\\S+:\\s?)|(&gt;)|([\\w\\.]*@[\\w\\.]*)', ' ', x))\\\n",
    "    .apply(lambda x: re.sub('\\s+', ' ', x))\n",
    "val_data = val_data[~val_data.text.apply(lambda x: isfloat(x) or isint(x) or len(x) < 20)]\n",
    "\n",
    "train_text = train_data['text'].astype(str).apply(lambda x: x.lower())\n",
    "train_labels =  np.asarray(train_data['channel'], dtype='int8')\n",
    "\n",
    "val_text = val_data['text'].astype(str).apply(lambda x: x.lower())\n",
    "val_labels = np.asarray(val_data['channel'], dtype='int8')"
   ]
  },
  {
   "cell_type": "code",
   "execution_count": 3,
   "metadata": {
    "collapsed": true
   },
   "outputs": [],
   "source": [
    "from sklearn.feature_extraction.text import TfidfVectorizer\n",
    "vectorizer = TfidfVectorizer(analyzer = 'char', max_features = 1000000, ngram_range = (1, 4))\n",
    "train_matrix = vectorizer.fit_transform(train_text)\n",
    "val_matrix = vectorizer.transform(val_text)"
   ]
  },
  {
   "cell_type": "code",
   "execution_count": null,
   "metadata": {
    "collapsed": true
   },
   "outputs": [],
   "source": [
    "xgb_train = xgb.DMatrix(train_matrix, label=train_labels)\n",
    "xgb_val = xgb.DMatrix(val_matrix, label=val_labels)\n",
    "\n",
    "xgb_params = {\n",
    "    'eta': 0.1, \n",
    "    'seed': 42, \n",
    "    'subsample': 0.7, \n",
    "    'colsample_bytree': 0.7,\n",
    "    'objective': 'multi:softmax', \n",
    "    'max_depth': 7, \n",
    "    'min_child_weight': 1,\n",
    "    'num_class': 12,\n",
    "    'eval_metric': 'merror' \n",
    "}\n",
    "\n",
    "eval_matrix = [(xgb_val, 'xgb_val')]\n",
    "\n",
    "final_xgb = xgb.train(xgb_params, xgb_train, num_boost_round = 1000, evals = eval_matrix, early_stopping_rounds=20,\n",
    "                    verbose_eval=5)"
   ]
  },
  {
   "cell_type": "code",
   "execution_count": null,
   "metadata": {
    "collapsed": true
   },
   "outputs": [],
   "source": [
    "predictions_xgb = final_gb.predict(xgb_val) # Predict using our testdmat\n",
    "print(predictions_xgb.round().astype(int))"
   ]
  },
  {
   "cell_type": "code",
   "execution_count": 17,
   "metadata": {},
   "outputs": [],
   "source": [
    "lgb_train = lgb.Dataset(train_matrix, label = train_labels)\n",
    "lgb_val = lgb.Dataset(val_matrix, label = val_labels, reference = lgb_train)\n",
    "\n",
    "lgb_params = {\n",
    "    'learning_rate': 0.1, \n",
    "    'seed': 42, \n",
    "    'bagging_fraction': 0.7,\n",
    "    'bagging_freq': 1,\n",
    "    'feature_fraction': 0.7,\n",
    "    'application': 'multiclass', \n",
    "    'num_leaves': 255, \n",
    "    'min_child_weight': 1,\n",
    "    'num_class': 12,\n",
    "    'metric': 'multi_error' \n",
    "}\n",
    "\n",
    "eval_matrix = [lgb_val]\n",
    "eval_name = ['lgb_val']"
   ]
  },
  {
   "cell_type": "code",
   "execution_count": null,
   "metadata": {},
   "outputs": [
    {
     "name": "stdout",
     "output_type": "stream",
     "text": [
      "[1]\tlgb_val's multi_error: 0.553343\n",
      "Train until valid scores didn't improve in 10 rounds.\n"
     ]
    }
   ],
   "source": [
    "final_lgb = lgb.train(lgb_params, lgb_train, valid_sets=eval_matrix, valid_names=eval_name,\n",
    "                      num_boost_round = 1000, early_stopping_rounds=10,\n",
    "                    verbose_eval=1)"
   ]
  },
  {
   "cell_type": "code",
   "execution_count": null,
   "metadata": {
    "collapsed": true
   },
   "outputs": [],
   "source": []
  }
 ],
 "metadata": {
  "kernelspec": {
   "display_name": "Python [conda env:py3]",
   "language": "python",
   "name": "conda-env-py3-py"
  },
  "language_info": {
   "codemirror_mode": {
    "name": "ipython",
    "version": 3
   },
   "file_extension": ".py",
   "mimetype": "text/x-python",
   "name": "python",
   "nbconvert_exporter": "python",
   "pygments_lexer": "ipython3",
   "version": "3.5.3"
  }
 },
 "nbformat": 4,
 "nbformat_minor": 2
}
