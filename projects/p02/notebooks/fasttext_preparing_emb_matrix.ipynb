{
 "cells": [
  {
   "cell_type": "code",
   "execution_count": 5,
   "metadata": {
    "collapsed": true
   },
   "outputs": [],
   "source": [
    "import os\n",
    "import subprocess\n",
    "EMBEDDING_DIM = 300\n",
    "FASTTEXT_EXECUTABLE = '~/fastText/fasttext'\n",
    "data_dir = '../data/'\n",
    "emb_file = 'wiki.ru.bin'\n",
    "\n",
    "PRETRAINED_MODEL_FILE = os.path.join(data_dir, emb_file)\n",
    "VOCAB_FILE = data_dir + 'data_train.vocab'\n",
    "OUTPUT_FILE = data_dir + 'fasttext_vocab.vec'\n",
    "\n",
    "with open(os.path.join(data_dir, 'data_train.vocab')) as f:\n",
    "    content = f.readlines()\n",
    "# you may also want to remove whitespace characters like `\\n` at the end of each line\n",
    "content = [x.strip() for x in content]\n",
    "\n",
    "with open(OUTPUT_FILE, 'w') as f:\n",
    "    print(f'{len(content)} {EMBEDDING_DIM}', file=f)\n",
    "\n",
    "with open(VOCAB_FILE) as f_vocab:\n",
    "    with open(OUTPUT_FILE, 'a') as f_output:\n",
    "        subprocess.run(\n",
    "            [FASTTEXT_EXECUTABLE, 'print-word-vectors', PRETRAINED_MODEL_FILE],\n",
    "            stdin=f_vocab,\n",
    "            stdout=f_output,\n",
    "        )"
   ]
  },
  {
   "cell_type": "code",
   "execution_count": null,
   "metadata": {
    "collapsed": true
   },
   "outputs": [],
   "source": []
  }
 ],
 "metadata": {
  "kernelspec": {
   "display_name": "Python 3",
   "language": "python",
   "name": "python3"
  },
  "language_info": {
   "codemirror_mode": {
    "name": "ipython",
    "version": 3
   },
   "file_extension": ".py",
   "mimetype": "text/x-python",
   "name": "python",
   "nbconvert_exporter": "python",
   "pygments_lexer": "ipython3",
   "version": "3.6.1"
  }
 },
 "nbformat": 4,
 "nbformat_minor": 2
}
