{
 "cells": [
  {
   "cell_type": "code",
   "execution_count": 1,
   "metadata": {
    "collapsed": true
   },
   "outputs": [],
   "source": [
    "# coding=utf-8\n",
    "import re\n",
    "import pymorphy2\n",
    "import pandas as pd\n",
    "import json\n",
    "import matplotlib.pyplot as plt; plt.rcdefaults()\n",
    "import numpy as np\n",
    "from matplotlib import rc\n",
    "import matplotlib\n",
    "\n",
    "pd.set_option('display.max_rows', None)\n",
    "pd.set_option('display.max_colwidth', -1)"
   ]
  },
  {
   "cell_type": "code",
   "execution_count": 10,
   "metadata": {
    "collapsed": true
   },
   "outputs": [],
   "source": [
    "train_set = pd.read_csv(\"train_set.csv\")\n",
    "channels = ['big_data', 'datasets', 'deep_learning', 'lang_python', 'lang_r', 'mltrainings_beginners', 'nlp', 'sequences_series', 'theory_and_practice', 'visualization', 'career', '_random_flood']\n",
    "train_set = train_set[train_set['channel'].isin(channels)]\n",
    "train_set = train_set[(train_set['timestamp'] < '2017-01-01') & (train_set['timestamp'] > '2016-01-01')]\n",
    "train_set = train_set.loc[(train_set[\"reactions\"] != '{}')]\n",
    "\n",
    "users = pd.read_json('data/users.json')\n",
    "users = users.rename(columns={'id': 'user_id'})\n",
    "train_set = pd.merge(train_set, users[['user_id','real_name']], on='user_id')"
   ]
  },
  {
   "cell_type": "code",
   "execution_count": 11,
   "metadata": {
    "collapsed": true
   },
   "outputs": [],
   "source": [
    "troll_reactions = ['kekeke', 'povar', 'ban', 'trollface_peeking', 'youknow', 'joy', 'laughing', 'slow']"
   ]
  },
  {
   "cell_type": "code",
   "execution_count": 12,
   "metadata": {},
   "outputs": [],
   "source": [
    "def extract_count_troll(x):\n",
    "    x = x.replace(\"'\", \"\\\"\")\n",
    "    x = json.loads(x)\n",
    "    if x[\"name\"] in troll_reactions:\n",
    "        return x[\"count\"]\n",
    "    return 0\n",
    "train_set[\"reactions_count\"] = train_set[\"reactions\"].apply(lambda x: extract_count_troll(x))\n",
    "trolls = train_set"
   ]
  },
  {
   "cell_type": "code",
   "execution_count": 13,
   "metadata": {},
   "outputs": [],
   "source": [
    "count = trolls.groupby([\"channel\", \"real_name\",])[\"reactions_count\"].sum().reset_index()"
   ]
  },
  {
   "cell_type": "code",
   "execution_count": 15,
   "metadata": {},
   "outputs": [],
   "source": [
    "overall_trolls_2016 = count.sort_values([\"reactions_count\"], ascending=False)\n",
    "#overall_trolls_2016[1:10]\n",
    "overall_trolls_2016 = overall_trolls_2016.to_csv('overall_trolls_2016.csv', sep='\\t', encoding='utf-8')"
   ]
  },
  {
   "cell_type": "code",
   "execution_count": null,
   "metadata": {
    "collapsed": true
   },
   "outputs": [],
   "source": []
  }
 ],
 "metadata": {
  "anaconda-cloud": {},
  "kernelspec": {
   "display_name": "Python [default]",
   "language": "python",
   "name": "python3"
  },
  "language_info": {
   "codemirror_mode": {
    "name": "ipython",
    "version": 3
   },
   "file_extension": ".py",
   "mimetype": "text/x-python",
   "name": "python",
   "nbconvert_exporter": "python",
   "pygments_lexer": "ipython3",
   "version": "3.5.2"
  }
 },
 "nbformat": 4,
 "nbformat_minor": 2
}
