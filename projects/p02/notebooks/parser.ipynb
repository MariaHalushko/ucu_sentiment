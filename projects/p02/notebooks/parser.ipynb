{
 "cells": [
  {
   "cell_type": "code",
   "execution_count": 1,
   "metadata": {
    "collapsed": true
   },
   "outputs": [],
   "source": [
    "import pandas as pd\n",
    "import numpy as np\n",
    "import os\n",
    "import json\n",
    "os.chdir('..')"
   ]
  },
  {
   "cell_type": "code",
   "execution_count": 2,
   "metadata": {
    "collapsed": true
   },
   "outputs": [],
   "source": [
    "dir_data = os.path.join('data', 'extracted')"
   ]
  },
  {
   "cell_type": "code",
   "execution_count": 3,
   "metadata": {
    "collapsed": true
   },
   "outputs": [],
   "source": [
    "def id_formatter(ts):\n",
    "    return int((float(ts) - 1356998400) * 100)\n",
    "\n",
    "def parse(message, channel):\n",
    "    if 'subtype' not in message:\n",
    "        user_id = message['user']\n",
    "        # getting message timestamp and id\n",
    "        msg_ts = message['ts']\n",
    "        msg_id = id_formatter(msg_ts)\n",
    "        ts = pd.to_datetime(msg_ts.split('.')[0], unit='s')\n",
    "        # getting message text\n",
    "        text = message['text']\n",
    "        # by default replies_count is 0\n",
    "        replies_count = 0\n",
    "        # check if message contains thread timestamp\n",
    "        if 'thread_ts' in message:\n",
    "            # getting thread timestamp and id\n",
    "            msg_thread_ts = message['thread_ts']\n",
    "            thread_id = id_formatter(msg_thread_ts)\n",
    "            thread_ts = pd.to_datetime(msg_thread_ts.split('.')[0], unit='s')\n",
    "            # if message cotains reply count - it is main (change replies count)\n",
    "            if 'reply_count' in message:\n",
    "                main_msg = 1\n",
    "                replies_count = message['reply_count']\n",
    "            # otherwise - it is thread\n",
    "            else:\n",
    "                main_msg = 0\n",
    "        # if no thread timestamp - message is main and has no thread messages\n",
    "        # thread id and ts are equal to message id and ts (but replies_count = 0)\n",
    "        else:\n",
    "            main_msg = 1\n",
    "            thread_id = msg_id\n",
    "            thread_ts = ts\n",
    "        # collect reactions\n",
    "        if 'reactions' in message:\n",
    "            reactions = {'name': '', 'count': 0}\n",
    "            for reaction in message['reactions']:\n",
    "                reactions['name'] = reaction['name']\n",
    "                reactions['count'] = reaction['count']\n",
    "        else:\n",
    "            reactions = {}\n",
    "        return {\n",
    "            'msg_id': msg_id,\n",
    "            'user_id': user_id, \n",
    "            'channel': channel, \n",
    "            'timestamp': ts, \n",
    "            'text': text, \n",
    "            'main_msg': main_msg, \n",
    "            'thread_id': thread_id,\n",
    "            'thread_timestamp': thread_ts, \n",
    "            'replies_count': replies_count, \n",
    "            'reactions': reactions\n",
    "        }"
   ]
  },
  {
   "cell_type": "code",
   "execution_count": 4,
   "metadata": {
    "collapsed": true
   },
   "outputs": [],
   "source": [
    "def retrieve_data(dir_data):\n",
    "    rows = []\n",
    "    # data folder paths\n",
    "    for root, subFolders, files in os.walk(dir_data):\n",
    "        for sf in subFolders:\n",
    "            print('reading files from {}...'.format(sf))\n",
    "            for f_name in os.listdir(os.path.join(dir_data, sf)):\n",
    "                if not f_name.startswith('.'):\n",
    "                    file = os.path.join(os.path.join(dir_data, sf), f_name)\n",
    "                    with open(file) as json_data:\n",
    "                        messages = json.load(json_data)\n",
    "                        for message in messages:\n",
    "                            parsed = parse(message, sf)\n",
    "                            if parsed is not None:\n",
    "                                rows.append(parsed)\n",
    "                                    \n",
    "    return rows"
   ]
  },
  {
   "cell_type": "code",
   "execution_count": 5,
   "metadata": {
    "collapsed": true
   },
   "outputs": [],
   "source": [
    "values = retrieve_data(dir_data)\n",
    "data = pd.DataFrame(values, columns=['msg_id', 'user_id', 'channel', 'timestamp', 'text', \n",
    "                             'main_msg', 'thread_id', 'thread_timestamp', 'replies_count', 'reactions'])\n"
   ]
  },
  {
   "cell_type": "code",
   "execution_count": null,
   "metadata": {
    "collapsed": true
   },
   "outputs": [],
   "source": [
    "data.to_csv('data/train_set.csv')"
   ]
  }
 ],
 "metadata": {
  "kernelspec": {
   "display_name": "Python [conda env:py3]",
   "language": "python",
   "name": "conda-env-py3-py"
  },
  "language_info": {
   "codemirror_mode": {
    "name": "ipython",
    "version": 3
   },
   "file_extension": ".py",
   "mimetype": "text/x-python",
   "name": "python",
   "nbconvert_exporter": "python",
   "pygments_lexer": "ipython3",
   "version": "3.5.3"
  }
 },
 "nbformat": 4,
 "nbformat_minor": 2
}
