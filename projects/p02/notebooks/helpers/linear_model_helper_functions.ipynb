{
 "cells": [
  {
   "cell_type": "code",
   "execution_count": 24,
   "metadata": {
    "collapsed": true
   },
   "outputs": [],
   "source": [
    "import pymorphy2\n",
    "import nltk\n",
    "import stop_words\n",
    "from nltk.corpus import stopwords\n",
    "from sklearn.feature_extraction.text import CountVectorizer, TfidfVectorizer\n",
    "from sklearn.linear_model import LogisticRegression\n",
    "from sklearn.pipeline import Pipeline\n",
    "from sklearn.svm import LinearSVC, SVC\n",
    "from sklearn.metrics import accuracy_score, classification_report, confusion_matrix, f1_score\n",
    "from sklearn.model_selection import KFold, GridSearchCV, train_test_split, cross_val_score, StratifiedKFold, ParameterGrid\n",
    "from sklearn import preprocessing\n",
    "from sklearn.multiclass import OneVsRestClassifier\n",
    "from sklearn.preprocessing import MultiLabelBinarizer\n",
    "from datetime import date\n",
    "import fastnumbers\n",
    "import re\n",
    "from fastnumbers import isfloat, isint\n",
    "import pickle\n",
    "import os\n",
    "import pandas as pd\n",
    "import numpy as np\n",
    "\n",
    "DIR_TRAIN = '../../data'\n",
    "dir_models = '../../models'\n",
    "\n",
    "mappings = {\n",
    "    'career': 0,\n",
    "    'theory_and_practice': 1,\n",
    "    'deep_learning': 2,\n",
    "    'lang_python': 3,\n",
    "    '_meetings': 4,\n",
    "    'kaggle_crackers': 5,\n",
    "    'big_data': 6,\n",
    "    'lang_r': 7,\n",
    "    'nlp': 8,\n",
    "    'welcome': 9,\n",
    "    'datasets': 10,\n",
    "    'bayesian': 11\n",
    "}\n",
    "\n",
    "# parameters initialization\n",
    "VALIDATION_SPLIT = 0.1\n",
    "RANDOM_SEED = 42\n",
    "\n",
    "# initialize dictionary size and maximum sentence length\n",
    "MAX_SEQUENCE_LENGTH = 150\n",
    "\n",
    "RUS_ALPHABET = ['а','б','в','г','д','е','ё','ж','з','и','й','к','л','м','н','о','п','р','с','т','у','ф','х','ц','ч','ш','щ','ъ','ы','ь','э','ю','я']"
   ]
  },
  {
   "cell_type": "code",
   "execution_count": 25,
   "metadata": {
    "collapsed": true
   },
   "outputs": [],
   "source": [
    "def load_data_for_linear():\n",
    "    data = pd.read_csv(os.path.join(DIR_TRAIN, 'train_set.csv'), usecols=range(1,11), parse_dates=['timestamp', 'thread_timestamp'])\n",
    "    data = data[\n",
    "        data.channel.isin(['career', 'big_data', 'deep_learning', 'kaggle_crackers',\n",
    "               'lang_python',  'lang_r', 'nlp', 'theory_and_practice', 'welcome', 'bayesian', '_meetings', 'datasets']) &\n",
    "        data.main_msg\n",
    "    ]\n",
    "\n",
    "    # data_train = data.\n",
    "    date_before = date(2017, 4, 1)\n",
    "    train = data[data['timestamp'] <= date_before]\n",
    "    val = data[data['timestamp'] > date_before]\n",
    "\n",
    "    train_data = train[['channel', 'text']].reset_index()[['channel', 'text']]\n",
    "    train_data['channel'] = train_data.channel.map(mappings)\n",
    "    train_data = train_data.sort_values('channel').reset_index()[['channel', 'text']]\n",
    "\n",
    "    val_data = val[['channel', 'text']].reset_index()[['channel', 'text']]\n",
    "    val_data['channel'] = val_data.channel.map(mappings)\n",
    "    val_data = val_data.sort_values('channel').reset_index()[['channel', 'text']]\n",
    "\n",
    "    train_data.text = train_data.text.astype(str)\\\n",
    "    .apply(lambda x: re.sub('(<\\S+>:?)|(\\s?:\\S+:\\s?)|(&gt;)|([\\w\\.]*@[\\w\\.]*)', ' ', x))\\\n",
    "    .apply(lambda x: re.sub('\\s+', ' ', x))\n",
    "    train_data = train_data[~train_data.text.apply(lambda x: isfloat(x) or isint(x) or len(x) < 20)]\n",
    "\n",
    "    val_data.text = val_data.text.astype(str)\\\n",
    "    .apply(lambda x: re.sub('(<\\S+>:?)|(\\s?:\\S+:\\s?)|(&gt;)|([\\w\\.]*@[\\w\\.]*)', ' ', x))\\\n",
    "    .apply(lambda x: re.sub('\\s+', ' ', x))\n",
    "    val_data = val_data[~val_data.text.apply(lambda x: isfloat(x) or isint(x) or len(x) < 20)]\n",
    "\n",
    "    train_text = train_data['text'].astype(str).apply(lambda x: x.lower())\n",
    "    train_labels =  np.asarray(train_data['channel'], dtype='int8')\n",
    "\n",
    "    val_text = val_data['text'].astype(str).apply(lambda x: x.lower())\n",
    "    val_labels = np.asarray(val_data['channel'], dtype='int8')\n",
    "    return train_text, val_text, train_labels, val_labels"
   ]
  },
  {
   "cell_type": "code",
   "execution_count": 26,
   "metadata": {
    "collapsed": true
   },
   "outputs": [],
   "source": [
    "def train_linear_model(train_text, train_labels):\n",
    "    # library for lemmatization and stop_words\n",
    "    morph = pymorphy2.MorphAnalyzer()\n",
    "    # without tuning accuracy_score = 50.81%\n",
    "    # accuracy_score = 55.33%\n",
    "    classifier = Pipeline([\n",
    "        ('vectorizer', TfidfVectorizer(analyzer = 'char', max_features = 1000000, \n",
    "                                                           ngram_range = (1, 4))),\n",
    "        ('clf', OneVsRestClassifier(LogisticRegression(),n_jobs=-1))])\n",
    "\n",
    "    classifier.fit(train_text, train_labels)\n",
    "    return classifier"
   ]
  },
  {
   "cell_type": "code",
   "execution_count": 27,
   "metadata": {
    "collapsed": true
   },
   "outputs": [],
   "source": [
    "def save_model(model, name):\n",
    "    with open(os.path.join(dir_models, '{0}.pickle'.format(name)), 'wb') as f:\n",
    "        pickle.dump(model, f)"
   ]
  },
  {
   "cell_type": "code",
   "execution_count": 28,
   "metadata": {
    "collapsed": true
   },
   "outputs": [],
   "source": [
    "def load_model(name):\n",
    "    with open(name, 'rb') as f:\n",
    "        model = pickle.load(f)\n",
    "    return model"
   ]
  }
 ],
 "metadata": {
  "kernelspec": {
   "display_name": "Python [default]",
   "language": "python",
   "name": "python3"
  },
  "language_info": {
   "codemirror_mode": {
    "name": "ipython",
    "version": 3
   },
   "file_extension": ".py",
   "mimetype": "text/x-python",
   "name": "python",
   "nbconvert_exporter": "python",
   "pygments_lexer": "ipython3",
   "version": "3.6.1"
  }
 },
 "nbformat": 4,
 "nbformat_minor": 1
}
