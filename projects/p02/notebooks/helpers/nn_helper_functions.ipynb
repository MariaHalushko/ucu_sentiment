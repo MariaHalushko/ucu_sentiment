{
 "cells": [
  {
   "cell_type": "code",
   "execution_count": 4,
   "metadata": {},
   "outputs": [
    {
     "name": "stderr",
     "output_type": "stream",
     "text": [
      "Using TensorFlow backend.\n"
     ]
    }
   ],
   "source": [
    "import string\n",
    "from keras.preprocessing.sequence import pad_sequences\n",
    "from keras.preprocessing.text import Tokenizer\n",
    "import pandas as pd\n",
    "import numpy as np\n",
    "import os\n",
    "import re\n",
    "from datetime import date\n",
    "from fastnumbers import isfloat, isint\n",
    "import tensorflow as tf\n",
    "from keras.models import Sequential, load_model\n",
    "from keras.layers import Embedding\n",
    "from keras.layers import BatchNormalization, SpatialDropout1D, Conv1D, Dense, Dropout, GlobalMaxPooling1D\n",
    "from keras.callbacks import ModelCheckpoint, TensorBoard, EarlyStopping\n",
    "from keras.utils import to_categorical\n",
    "\n",
    "DIR_TRAIN = '../../data'\n",
    "dir_models = '../../models' \n",
    "\n",
    "MAPPINGS = {\n",
    "    'career': 0,\n",
    "    'theory_and_practice': 1,\n",
    "    'deep_learning': 2,\n",
    "    'lang_python': 3,\n",
    "    '_meetings': 4,\n",
    "    'kaggle_crackers': 5,\n",
    "    'big_data': 6,\n",
    "    'lang_r': 7,\n",
    "    'nlp': 8,\n",
    "    'welcome': 9,\n",
    "    'datasets': 10,\n",
    "    'bayesian': 11\n",
    "}\n",
    "\n",
    "# parameters initialization\n",
    "VALIDATION_SPLIT = 0.1\n",
    "RANDOM_SEED = 42\n",
    "\n",
    "# initialize dictionary size and maximum sentence length\n",
    "MAX_SEQUENCE_LENGTH = 150\n",
    "\n",
    "rus_alphabet = ['а','б','в','г','д','е','ё','ж','з','и','й','к','л','м','н','о','п','р','с','т','у','ф','х','ц','ч','ш','щ','ъ','ы','ь','э','ю','я']"
   ]
  },
  {
   "cell_type": "code",
   "execution_count": 2,
   "metadata": {
    "collapsed": true
   },
   "outputs": [],
   "source": [
    "def create_vocab_set():\n",
    "    alphabet = (rus_alphabet + list(string.ascii_lowercase) + list(string.digits) + list(string.punctuation) + [' ', '\\n'])\n",
    "    vocab_size = len(alphabet)\n",
    "    vocab = {}\n",
    "    for ix, t in enumerate(alphabet):\n",
    "        vocab[t] = ix+1\n",
    "    return vocab, vocab_size\n",
    "\n",
    "def text2sequence(text, vocab):\n",
    "    temp = []\n",
    "    for review in text:\n",
    "        temp.append([])\n",
    "        for i in review:\n",
    "            char = vocab.get(i,0)\n",
    "            if char != 0:\n",
    "                temp[-1].append(char)\n",
    "    return temp"
   ]
  },
  {
   "cell_type": "code",
   "execution_count": 3,
   "metadata": {
    "collapsed": true
   },
   "outputs": [],
   "source": [
    "def load_data_for_nn():\n",
    "    data = pd.read_csv(os.path.join(DIR_TRAIN, 'train_set.csv'), usecols=range(1,11), parse_dates=['timestamp', 'thread_timestamp'])\n",
    "    data = data[\n",
    "        data.channel.isin(['career', 'big_data', 'deep_learning', 'kaggle_crackers',\n",
    "               'lang_python',  'lang_r', 'nlp', 'theory_and_practice', 'welcome', 'bayesian', '_meetings', 'datasets']) &\n",
    "        data.main_msg\n",
    "    ]\n",
    "\n",
    "    # data_train = data.\n",
    "    date_before = date(2017, 4, 1)\n",
    "    train = data[data['timestamp'] <= date_before]\n",
    "    val = data[data['timestamp'] > date_before]\n",
    "\n",
    "    train_data = train[['channel', 'text']].reset_index()[['channel', 'text']]\n",
    "    train_data['channel'] = train_data.channel.map(MAPPINGS)\n",
    "    train_data = train_data.sort_values('channel').reset_index()[['channel', 'text']]\n",
    "\n",
    "    val_data = val[['channel', 'text']].reset_index()[['channel', 'text']]\n",
    "    val_data['channel'] = val_data.channel.map(MAPPINGS)\n",
    "    val_data = val_data.sort_values('channel').reset_index()[['channel', 'text']]\n",
    "\n",
    "    train_data.text = train_data.text.astype(str)\\\n",
    "        .apply(lambda x: re.sub('(<\\S+>:?)|(\\s?:\\S+:\\s?)|(&gt;)|([\\w\\.]*@[\\w\\.]*)', ' ', x))\\\n",
    "        .apply(lambda x: re.sub('\\s+', ' ', x))\n",
    "    train_data = train_data[~train_data.text.apply(lambda x: isfloat(x) or isint(x) or len(x) < 20)]\n",
    "\n",
    "    val_data.text = val_data.text.astype(str)\\\n",
    "        .apply(lambda x: re.sub('(<\\S+>:?)|(\\s?:\\S+:\\s?)|(&gt;)|([\\w\\.]*@[\\w\\.]*)', ' ', x))\\\n",
    "        .apply(lambda x: re.sub('\\s+', ' ', x))\n",
    "    val_data = val_data[~val_data.text.apply(lambda x: isfloat(x) or isint(x) or len(x) < 20)]\n",
    "\n",
    "    train_text = train_data['text'].astype(str).apply(lambda x: x.lower())\n",
    "    train_labels =  np.asarray(train_data['channel'], dtype='int8')\n",
    "\n",
    "    val_text = val_data['text'].astype(str).apply(lambda x: x.lower())\n",
    "    val_labels = np.asarray(val_data['channel'], dtype='int8')\n",
    "\n",
    "    vocab, vocab_size = create_vocab_set()\n",
    "\n",
    "    X_train = text2sequence(train_text, vocab)\n",
    "    X_val = text2sequence(val_text, vocab)\n",
    "\n",
    "    X_train = pad_sequences(X_train, maxlen=MAX_SEQUENCE_LENGTH, value=0)\n",
    "    X_val = pad_sequences(X_val, maxlen=MAX_SEQUENCE_LENGTH, value=0)\n",
    "\n",
    "    train_labels = to_categorical(train_labels, num_classes=12)\n",
    "    val_labels = to_categorical(val_labels, num_classes=12)\n",
    "    \n",
    "    return X_train, train_labels, X_val, val_labels"
   ]
  },
  {
   "cell_type": "code",
   "execution_count": 4,
   "metadata": {
    "collapsed": true
   },
   "outputs": [],
   "source": [
    "def transform(tokenizer_object, train, test):\n",
    "    sequences_train = tokenizer_object.texts_to_sequences(train)  # transform words to its indexes\n",
    "    sequences_test = tokenizer_object.texts_to_sequences(test)\n",
    "\n",
    "    word_indexes = tokenizer_object.word_index  # dictionary of word:index\n",
    "\n",
    "    # transform a list to numpy array with shape (nb_samples, MAX_SEQUENCE_LENGTH)\n",
    "    # be careful because it takes only last MAX_SEQUENCE_LENGTH words\n",
    "    train = pad_sequences(sequences_train, maxlen=MAX_SEQUENCE_LENGTH)\n",
    "    test = pad_sequences(sequences_test, maxlen=MAX_SEQUENCE_LENGTH)\n",
    "\n",
    "    return train, test, word_indexes"
   ]
  },
  {
   "cell_type": "code",
   "execution_count": 28,
   "metadata": {
    "collapsed": true
   },
   "outputs": [],
   "source": [
    "def train_model_char_cnn_emb(num_classes):\n",
    "    # callbacks initialization\n",
    "    # automatic generation of learning curves\n",
    "    callback_1 = TensorBoard(log_dir='./logs/logs_{}'.format(NAME), histogram_freq=0,\n",
    "                                 write_graph=False, write_images=False)\n",
    "    # stop training model if accuracy does not increase more than five epochs\n",
    "    callback_2 = EarlyStopping(monitor='val_acc', min_delta=0, patience=7, verbose=0, mode='auto')\n",
    "    # best model saving\n",
    "    callback_3 = ModelCheckpoint(\"../models/model_{}.hdf5\".format(NAME), monitor='val_acc',\n",
    "                                     save_best_only=True, verbose=0)\n",
    "\n",
    "\n",
    "    NAME = \"char_cnn_emb\"\n",
    "    EMBEDDING_DIM = 150\n",
    "    # инициализируем модель\n",
    "    model = Sequential()\n",
    "    model.add(Embedding(vocab_size+1, EMBEDDING_DIM, input_length=MAX_SEQUENCE_LENGTH, trainable=True))\n",
    "    model.add(SpatialDropout1D(0.2))\n",
    "    model.add(Conv1D(activation=\"relu\", filters=150, kernel_size=3, padding=\"valid\"))\n",
    "    model.add(SpatialDropout1D(0.2))\n",
    "    model.add(BatchNormalization())\n",
    "    model.add(Conv1D(activation=\"relu\", filters=150, kernel_size=3, padding=\"valid\"))\n",
    "    model.add(SpatialDropout1D(0.2))\n",
    "    model.add(BatchNormalization())\n",
    "    model.add(Conv1D(activation=\"relu\", filters=150, kernel_size=3, padding=\"valid\"))\n",
    "    model.add(GlobalMaxPooling1D())\n",
    "    model.add(Dense(150, activation='relu'))\n",
    "    model.add(Dropout(0.5))\n",
    "    model.add(BatchNormalization())\n",
    "    model.add(Dense(150, activation='relu'))\n",
    "    model.add(BatchNormalization())\n",
    "    model.add(Dense(num_classes, activation='softmax'))\n",
    "\n",
    "    model.compile(loss='categorical_crossentropy',\n",
    "                  optimizer='adam',\n",
    "                  metrics=['accuracy'])\n",
    "\n",
    "    model.summary()\n",
    "    model.fit(X_train, train_labels, validation_data=[X_val, val_labels],\n",
    "             batch_size=1024, epochs=100, callbacks=[callback_1, callback_2, callback_3])\n",
    "    return model"
   ]
  },
  {
   "cell_type": "code",
   "execution_count": null,
   "metadata": {
    "collapsed": true
   },
   "outputs": [],
   "source": [
    "def prepare_embeddings(word_indexes):\n",
    "\n",
    "    def load_w2v():\n",
    "        _fname = os.path.join(DATA_DIR, EMBEDDING_FILE)\n",
    "        w2v_model = models.KeyedVectors.load_word2vec_format(_fname, binary=False)\n",
    "        return w2v_model\n",
    "\n",
    "    embeddings = load_w2v()\n",
    "    # prepare embedding matrix\n",
    "    nb_words = min(MAX_NB_WORDS, len(word_indexes))\n",
    "    prepared_embedding_matrix = np.zeros((nb_words, EMBEDDING_DIM))\n",
    "    for word, n in word_indexes.items():\n",
    "        if n >= MAX_NB_WORDS:\n",
    "            continue\n",
    "        try:\n",
    "            embedding_vector = embeddings.word_vec(word)\n",
    "            prepared_embedding_matrix[n] = embedding_vector\n",
    "        except:\n",
    "            continue\n",
    "\n",
    "    return prepared_embedding_matrix"
   ]
  },
  {
   "cell_type": "code",
   "execution_count": null,
   "metadata": {
    "collapsed": true
   },
   "outputs": [],
   "source": [
    "def train_model_lstm(num_classes):\n",
    "    data_train, labels_train, data_test, labels_test = load_data_for_nn()\n",
    "    print(len(data_train), len(data_test))\n",
    "    tokenizer = Tokenizer(num_words=MAX_NB_WORDS, filters='\"#$%&()*+-/:;<=>@[\\\\]^{|}~\\t\\n,.')\n",
    "    tokenizer.fit_on_texts(data_train)\n",
    "\n",
    "    X_train, X_test, word_index = transform(tokenizer, data_train, data_test)\n",
    "    y_train, y_test = to_categorical(np.asarray(labels_train), num_classes=12), to_categorical(np.asarray(labels_test), num_classes=12)\n",
    "\n",
    "    embedding_matrix = prepare_embeddings(word_index)\n",
    "\n",
    "    # инициализируем слой эмбеддингов\n",
    "    NAME = \"lstm_channel_classification\"\n",
    "\n",
    "    # callbacks initialization\n",
    "    # automatic generation of learning curves\n",
    "    callback_1 = TensorBoard(log_dir='./logs/logs_{}'.format(NAME), histogram_freq=0,\n",
    "                             write_graph=False, write_images=False)\n",
    "    # stop training model if accuracy does not increase more than five epochs\n",
    "    callback_2 = EarlyStopping(monitor='val_acc', min_delta=0, patience=5, verbose=0, mode='auto')\n",
    "    # best model saving\n",
    "    callback_3 = ModelCheckpoint(\"../models/model_{}.hdf5\".format(NAME), monitor='val_acc',\n",
    "                                 save_best_only=True, verbose=0)\n",
    "\n",
    "    embedding_layer = Embedding(embedding_matrix.shape[0],\n",
    "                                embedding_matrix.shape[1],\n",
    "                                weights=[embedding_matrix],\n",
    "                                input_length=MAX_SEQUENCE_LENGTH,\n",
    "                                trainable=False,\n",
    "                                mask_zero=True)\n",
    "\n",
    "    model = Sequential()\n",
    "    model.add(embedding_layer)\n",
    "    model.add(Dropout(0.25))\n",
    "    model.add(LSTM(150, dropout=0.1, recurrent_dropout=0.1, return_sequences=True))\n",
    "    model.add(LSTM(150, dropout=0.1, recurrent_dropout=0.1))\n",
    "    model.add(Dropout(0.25))\n",
    "    model.add(Dense(150))\n",
    "    model.add(Dropout(0.5))\n",
    "    model.add(Dense(12))\n",
    "    model.add(Activation('softmax'))\n",
    "\n",
    "    model.compile(loss='categorical_crossentropy',\n",
    "                  optimizer='adam',\n",
    "                  metrics=['accuracy'])\n",
    "\n",
    "    model.summary()\n",
    "    model.fit(X_train, y_train, validation_data=[X_test, y_test],\n",
    "              batch_size=1024, epochs=100, callbacks=[callback_1, callback_2, callback_3])\n",
    "    return model"
   ]
  },
  {
   "cell_type": "code",
   "execution_count": 6,
   "metadata": {
    "collapsed": true
   },
   "outputs": [],
   "source": [
    "def load_model_nn(name):\n",
    "    model = load_model(\"../../models/model_{}.hdf5\".format(name))\n",
    "    model.compile(loss='categorical_crossentropy',\n",
    "              optimizer='adam',\n",
    "              metrics=['accuracy'])\n",
    "    model.summary()\n",
    "    return model"
   ]
  },
  {
   "cell_type": "code",
   "execution_count": 25,
   "metadata": {
    "collapsed": true
   },
   "outputs": [],
   "source": [
    "X_train, train_labels, X_val, val_labels = load_data_for_nn()"
   ]
  },
  {
   "cell_type": "code",
   "execution_count": 8,
   "metadata": {},
   "outputs": [
    {
     "name": "stdout",
     "output_type": "stream",
     "text": [
      "_________________________________________________________________\n",
      "Layer (type)                 Output Shape              Param #   \n",
      "=================================================================\n",
      "embedding_1 (Embedding)      (None, 150, 150)          15600     \n",
      "_________________________________________________________________\n",
      "spatial_dropout1d_1 (Spatial (None, 150, 150)          0         \n",
      "_________________________________________________________________\n",
      "conv1d_1 (Conv1D)            (None, 148, 150)          67650     \n",
      "_________________________________________________________________\n",
      "spatial_dropout1d_2 (Spatial (None, 148, 150)          0         \n",
      "_________________________________________________________________\n",
      "batch_normalization_1 (Batch (None, 148, 150)          600       \n",
      "_________________________________________________________________\n",
      "conv1d_2 (Conv1D)            (None, 146, 150)          67650     \n",
      "_________________________________________________________________\n",
      "spatial_dropout1d_3 (Spatial (None, 146, 150)          0         \n",
      "_________________________________________________________________\n",
      "batch_normalization_2 (Batch (None, 146, 150)          600       \n",
      "_________________________________________________________________\n",
      "conv1d_3 (Conv1D)            (None, 144, 150)          67650     \n",
      "_________________________________________________________________\n",
      "global_max_pooling1d_1 (Glob (None, 150)               0         \n",
      "_________________________________________________________________\n",
      "dense_1 (Dense)              (None, 150)               22650     \n",
      "_________________________________________________________________\n",
      "dropout_1 (Dropout)          (None, 150)               0         \n",
      "_________________________________________________________________\n",
      "batch_normalization_3 (Batch (None, 150)               600       \n",
      "_________________________________________________________________\n",
      "dense_2 (Dense)              (None, 150)               22650     \n",
      "_________________________________________________________________\n",
      "batch_normalization_4 (Batch (None, 150)               600       \n",
      "_________________________________________________________________\n",
      "dense_3 (Dense)              (None, 12)                1812      \n",
      "=================================================================\n",
      "Total params: 268,062\n",
      "Trainable params: 266,862\n",
      "Non-trainable params: 1,200\n",
      "_________________________________________________________________\n"
     ]
    },
    {
     "data": {
      "text/plain": [
       "<keras.models.Sequential at 0x11813bc18>"
      ]
     },
     "execution_count": 8,
     "metadata": {},
     "output_type": "execute_result"
    }
   ],
   "source": [
    "load_model_nn('char_cnn_emb')"
   ]
  },
  {
   "cell_type": "code",
   "execution_count": 30,
   "metadata": {},
   "outputs": [
    {
     "name": "stdout",
     "output_type": "stream",
     "text": [
      "92528 7733\n"
     ]
    },
    {
     "ename": "NameError",
     "evalue": "name 'prepare_embeddings' is not defined",
     "output_type": "error",
     "traceback": [
      "\u001b[0;31m---------------------------------------------------------------------------\u001b[0m",
      "\u001b[0;31mNameError\u001b[0m                                 Traceback (most recent call last)",
      "\u001b[0;32m<ipython-input-30-81f92328f6fb>\u001b[0m in \u001b[0;36m<module>\u001b[0;34m()\u001b[0m\n\u001b[0;32m----> 1\u001b[0;31m \u001b[0mtrain_model_lstm_channel_classification\u001b[0m\u001b[0;34m(\u001b[0m\u001b[0;34m)\u001b[0m\u001b[0;34m\u001b[0m\u001b[0m\n\u001b[0m",
      "\u001b[0;32m<ipython-input-28-23dd2b19f209>\u001b[0m in \u001b[0;36mtrain_model_lstm_channel_classification\u001b[0;34m()\u001b[0m\n\u001b[1;32m      3\u001b[0m     \u001b[0mprint\u001b[0m\u001b[0;34m(\u001b[0m\u001b[0mlen\u001b[0m\u001b[0;34m(\u001b[0m\u001b[0mdata_train\u001b[0m\u001b[0;34m)\u001b[0m\u001b[0;34m,\u001b[0m \u001b[0mlen\u001b[0m\u001b[0;34m(\u001b[0m\u001b[0mdata_test\u001b[0m\u001b[0;34m)\u001b[0m\u001b[0;34m)\u001b[0m\u001b[0;34m\u001b[0m\u001b[0m\n\u001b[1;32m      4\u001b[0m \u001b[0;34m\u001b[0m\u001b[0m\n\u001b[0;32m----> 5\u001b[0;31m     \u001b[0membedding_matrix\u001b[0m \u001b[0;34m=\u001b[0m \u001b[0mprepare_embeddings\u001b[0m\u001b[0;34m(\u001b[0m\u001b[0mword_index\u001b[0m\u001b[0;34m)\u001b[0m\u001b[0;34m\u001b[0m\u001b[0m\n\u001b[0m\u001b[1;32m      6\u001b[0m \u001b[0;34m\u001b[0m\u001b[0m\n\u001b[1;32m      7\u001b[0m     \u001b[0;31m# инициализируем слой эмбеддингов\u001b[0m\u001b[0;34m\u001b[0m\u001b[0;34m\u001b[0m\u001b[0m\n",
      "\u001b[0;31mNameError\u001b[0m: name 'prepare_embeddings' is not defined"
     ]
    }
   ],
   "source": [
    "train_model_lstm_channel_classification()"
   ]
  },
  {
   "cell_type": "code",
   "execution_count": 29,
   "metadata": {
    "collapsed": true
   },
   "outputs": [],
   "source": [
    "data_train, labels_train, data_test, labels_test = load_data_for_nn()"
   ]
  },
  {
   "cell_type": "code",
   "execution_count": 22,
   "metadata": {},
   "outputs": [
    {
     "data": {
      "text/plain": [
       "array([[  0,   0,   0, ...,  20,  29,  70],\n",
       "       [  0,   0,   0, ...,  20,  30,  70],\n",
       "       [  0,   0,   0, ...,   9,  17,  70],\n",
       "       ..., \n",
       "       [ 58,  46,  36, ...,  97,  97,  97],\n",
       "       [  0,   0,   0, ...,  49,  83, 102],\n",
       "       [102,  16,  19, ...,  30,  83, 102]], dtype=int32)"
      ]
     },
     "execution_count": 22,
     "metadata": {},
     "output_type": "execute_result"
    }
   ],
   "source": [
    "data_test"
   ]
  }
 ],
 "metadata": {
  "kernelspec": {
   "display_name": "Python [default]",
   "language": "python",
   "name": "python3"
  },
  "language_info": {
   "codemirror_mode": {
    "name": "ipython",
    "version": 3
   },
   "file_extension": ".py",
   "mimetype": "text/x-python",
   "name": "python",
   "nbconvert_exporter": "python",
   "pygments_lexer": "ipython3",
   "version": "3.5.3"
  }
 },
 "nbformat": 4,
 "nbformat_minor": 1
}
