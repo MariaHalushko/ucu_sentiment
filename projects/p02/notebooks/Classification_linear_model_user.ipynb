{
 "cells": [
  {
   "cell_type": "code",
   "execution_count": 1,
   "metadata": {},
   "outputs": [],
   "source": [
    "import pandas as pd\n",
    "import numpy as np\n",
    "import pymorphy2\n",
    "import nltk\n",
    "import stop_words\n",
    "from nltk.corpus import stopwords\n",
    "from sklearn.feature_extraction.text import CountVectorizer, TfidfVectorizer\n",
    "from sklearn.linear_model import LogisticRegression\n",
    "from sklearn.pipeline import Pipeline\n",
    "from sklearn.svm import LinearSVC, SVC\n",
    "from sklearn.metrics import accuracy_score, classification_report, confusion_matrix, f1_score\n",
    "from sklearn.model_selection import KFold, GridSearchCV, train_test_split, cross_val_score, StratifiedKFold, ParameterGrid\n",
    "from sklearn import preprocessing\n",
    "from sklearn.multiclass import OneVsRestClassifier, OneVsOneClassifier\n",
    "from sklearn.preprocessing import MultiLabelBinarizer\n",
    "from datetime import date\n",
    "import fastnumbers\n",
    "import re\n",
    "from fastnumbers import isfloat, isint"
   ]
  },
  {
   "cell_type": "code",
   "execution_count": 3,
   "metadata": {},
   "outputs": [],
   "source": [
    "data = pd.read_csv('../data/train_set.csv', usecols=range(1,11),  parse_dates=['timestamp', 'thread_timestamp'])"
   ]
  },
  {
   "cell_type": "code",
   "execution_count": 4,
   "metadata": {},
   "outputs": [],
   "source": [
    "#select top 12 channels\n",
    "data =data[data.channel.isin(['career', 'big_data', 'deep_learning', 'kaggle_crackers', \n",
    "           'lang_python',  'lang_r', 'nlp', 'theory_and_practice', 'welcome', 'bayesian', '_meetings', 'datasets']) \n",
    "           & data.main_msg]\n",
    "\n",
    "users_100 = list(data.user_id.value_counts()[:100].index)\n",
    "data = data[data[\"user_id\"].isin(users_100)]\n",
    "\n",
    "mappings = {}\n",
    "for c, value in enumerate(users_100 , 1):\n",
    "    mappings[value] = c"
   ]
  },
  {
   "cell_type": "code",
   "execution_count": 5,
   "metadata": {},
   "outputs": [],
   "source": [
    "# split on data and data val\n",
    "date_before = date(2017, 4, 1)\n",
    "train = data[data['timestamp'] <= date_before]\n",
    "val = data[data['timestamp'] > date_before]\n",
    "\n",
    "train_data = train[['user_id', 'text']].reset_index()[['user_id', 'text']]\n",
    "train_data['user_id'] = train_data.user_id.map(mappings)\n",
    "train_data = train_data.sort_values('user_id').reset_index()[['user_id', 'text']]\n",
    "\n",
    "val_data = val[['user_id', 'text']].reset_index()[['user_id', 'text']]\n",
    "val_data['user_id'] = val_data.user_id.map(mappings)\n",
    "val_data = val_data.sort_values('user_id').reset_index()[['user_id', 'text']]\n",
    "\n",
    "train_data.text = train_data.text.astype(str)\\\n",
    "    .apply(lambda x: re.sub('(<\\S+>:?)|(&gt;)|([\\w\\.]*@[\\w\\.]*)', ' ', x)) \\\n",
    "    .apply(lambda x: re.sub('\\s+', ' ', x))\n",
    "train_data = train_data[~train_data.text.apply(lambda x: isfloat(x) or isint(x) or len(x) < 20)]\n",
    "\n",
    "val_data.text = val_data.text.astype(str)\\\n",
    "    .apply(lambda x: re.sub('(<\\S+>:?)|(&gt;)|([\\w\\.]*@[\\w\\.]*)', ' ', x)) \\\n",
    "    .apply(lambda x: re.sub('\\s+', ' ', x))\n",
    "val_data = val_data[~val_data.text.apply(lambda x: isfloat(x) or isint(x) or len(x) < 20)]\n",
    "\n",
    "train_text = train_data['text'].astype(str).apply(lambda x: x.lower())\n",
    "train_labels =  np.asarray(train_data['user_id'], dtype='int8')\n",
    "\n",
    "val_text = val_data['text'].astype(str).apply(lambda x: x.lower())\n",
    "val_labels = np.asarray(val_data['user_id'], dtype='int8')"
   ]
  },
  {
   "cell_type": "code",
   "execution_count": 11,
   "metadata": {},
   "outputs": [],
   "source": [
    "# without tuning accuracy_score = 15.34%\n",
    "# tuning accuracy_score = 19.85%\n",
    "\n",
    "classifier = Pipeline([\n",
    "    ('vectorizer', CountVectorizer(binary=True, min_df= 1, ngram_range= (1, 2), max_features= 100000,)),\n",
    "    ('clf', OneVsRestClassifier(LogisticRegression()))])"
   ]
  },
  {
   "cell_type": "code",
   "execution_count": 12,
   "metadata": {},
   "outputs": [
    {
     "data": {
      "text/plain": [
       "Pipeline(steps=[('vectorizer', CountVectorizer(analyzer='word', binary=True, decode_error='strict',\n",
       "        dtype=<class 'numpy.int64'>, encoding='utf-8', input='content',\n",
       "        lowercase=True, max_df=1.0, max_features=100000, min_df=1,\n",
       "        ngram_range=(1, 2), preprocessor=None, stop_words=None,\n",
       "      ...=None, solver='liblinear', tol=0.0001,\n",
       "          verbose=0, warm_start=False),\n",
       "          n_jobs=1))])"
      ]
     },
     "execution_count": 12,
     "metadata": {},
     "output_type": "execute_result"
    }
   ],
   "source": [
    "classifier.fit(train_text, train_labels)"
   ]
  },
  {
   "cell_type": "code",
   "execution_count": 13,
   "metadata": {},
   "outputs": [],
   "source": [
    "predicted = classifier.predict(val_text)"
   ]
  },
  {
   "cell_type": "code",
   "execution_count": 14,
   "metadata": {},
   "outputs": [
    {
     "data": {
      "text/plain": [
       "0.19856926078473877"
      ]
     },
     "execution_count": 14,
     "metadata": {},
     "output_type": "execute_result"
    }
   ],
   "source": [
    "accuracy_score(predicted, val_labels)"
   ]
  },
  {
   "cell_type": "code",
   "execution_count": 6,
   "metadata": {
    "collapsed": true
   },
   "outputs": [],
   "source": [
    "from nltk.stem.wordnet import WordNetLemmatizer\n",
    "lmtzr = WordNetLemmatizer()"
   ]
  },
  {
   "cell_type": "code",
   "execution_count": 14,
   "metadata": {
    "collapsed": true
   },
   "outputs": [],
   "source": [
    "vocabulary = set()\n",
    "for index, sentence in train_text.iteritems():\n",
    "    for word in nltk.word_tokenize(sentence):\n",
    "        vocabulary.add(word.encode().decode('utf-8', 'ignore'))"
   ]
  },
  {
   "cell_type": "code",
   "execution_count": 16,
   "metadata": {},
   "outputs": [],
   "source": [
    "with open('../data/users_classification.vocab', 'w') as f:\n",
    "    for line in vocabulary:\n",
    "        f.write(line+'\\n')"
   ]
  },
  {
   "cell_type": "code",
   "execution_count": null,
   "metadata": {
    "collapsed": true
   },
   "outputs": [],
   "source": []
  }
 ],
 "metadata": {
  "anaconda-cloud": {},
  "kernelspec": {
   "display_name": "Python 3",
   "language": "python",
   "name": "python3"
  },
  "language_info": {
   "codemirror_mode": {
    "name": "ipython",
    "version": 3
   },
   "file_extension": ".py",
   "mimetype": "text/x-python",
   "name": "python",
   "nbconvert_exporter": "python",
   "pygments_lexer": "ipython3",
   "version": "3.6.1"
  }
 },
 "nbformat": 4,
 "nbformat_minor": 2
}
