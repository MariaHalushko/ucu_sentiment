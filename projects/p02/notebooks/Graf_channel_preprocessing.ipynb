{
 "cells": [
  {
   "cell_type": "code",
   "execution_count": 207,
   "metadata": {
    "collapsed": false,
    "deletable": true,
    "editable": true
   },
   "outputs": [],
   "source": [
    "import pandas as pd\n",
    "import numpy as np\n",
    "from igraph import *\n",
    "import scipy.sparse as sparse\n",
    "from datetime import date"
   ]
  },
  {
   "cell_type": "code",
   "execution_count": 180,
   "metadata": {
    "collapsed": true,
    "deletable": true,
    "editable": true
   },
   "outputs": [],
   "source": [
    "data = pd.read_csv('../ucu_sentiment-master/data/train_set.csv', usecols=range(1,11),  parse_dates=['timestamp', 'thread_timestamp'])"
   ]
  },
  {
   "cell_type": "code",
   "execution_count": 181,
   "metadata": {
    "collapsed": false,
    "deletable": true,
    "editable": true
   },
   "outputs": [],
   "source": [
    "#select top 40 channels by message count\n",
    "\n",
    "channels_best = list(data.channel.value_counts()[:40].index)\n",
    "data = data[data[\"channel\"].isin(channels_best)]"
   ]
  },
  {
   "cell_type": "code",
   "execution_count": 182,
   "metadata": {
    "collapsed": false,
    "deletable": true,
    "editable": true
   },
   "outputs": [],
   "source": [
    "#split data by years\n",
    "\n",
    "date_2017 = date(2017, 1, 1)\n",
    "date_2016 = date(2016, 1, 1)\n",
    "data_train_2015 = data[data['timestamp'] < date_2016]\n",
    "data_train_2016 = data[(data['timestamp'] < date_2017) & (data['timestamp'] >= date_2016)]\n",
    "data_train_2017 = data[data['timestamp'] >= date_2017]"
   ]
  },
  {
   "cell_type": "code",
   "execution_count": 183,
   "metadata": {
    "collapsed": true,
    "deletable": true,
    "editable": true
   },
   "outputs": [],
   "source": [
    "#create table rows - user, column - channels, value - message count, only 2017\n",
    "\n",
    "data_table = pd.DataFrame(data_train_2017.groupby(['user_id', 'channel'])['msg_id'].count()).unstack(fill_value=0)"
   ]
  },
  {
   "cell_type": "code",
   "execution_count": 186,
   "metadata": {
    "collapsed": false,
    "deletable": true,
    "editable": true
   },
   "outputs": [],
   "source": [
    "# for reducing count of edges with low weight - update values with < 20 to 0\n",
    "\n",
    "for i, rows in data_table.head().iterrows():\n",
    "    for j, item in rows.iteritems():\n",
    "        if item < 20:\n",
    "            data_table.loc[i,j] = 0"
   ]
  },
  {
   "cell_type": "code",
   "execution_count": null,
   "metadata": {
    "collapsed": true,
    "deletable": true,
    "editable": true
   },
   "outputs": [],
   "source": [
    "# make natrix\n",
    "A = data_table.as_matrix()"
   ]
  },
  {
   "cell_type": "code",
   "execution_count": null,
   "metadata": {
    "collapsed": true,
    "deletable": true,
    "editable": true
   },
   "outputs": [],
   "source": [
    "# transpose matrix\n",
    "A_persons = np.dot(A, A.T)\n",
    "A_channel = np.dot(A.T, A)"
   ]
  },
  {
   "cell_type": "code",
   "execution_count": 209,
   "metadata": {
    "collapsed": false,
    "deletable": true,
    "editable": true
   },
   "outputs": [],
   "source": [
    "# exclude value in diagonal \n",
    "np.fill_diagonal(A_channel, 0)"
   ]
  },
  {
   "cell_type": "code",
   "execution_count": 253,
   "metadata": {
    "collapsed": false,
    "deletable": true,
    "editable": true
   },
   "outputs": [],
   "source": [
    "# for reducing count of edges with low weight - update values with < 10000 to 0\n",
    "\n",
    "for (x,y), value in np.ndenumerate(A_channel):\n",
    "    if value < 10000:\n",
    "        A_channel[x, y] = 0"
   ]
  },
  {
   "cell_type": "code",
   "execution_count": 255,
   "metadata": {
    "collapsed": true,
    "deletable": true,
    "editable": true
   },
   "outputs": [],
   "source": [
    "# sparse matrix for graf\n",
    "A_channel_sparce = sparse.coo_matrix(A_channel)"
   ]
  },
  {
   "cell_type": "code",
   "execution_count": 259,
   "metadata": {
    "collapsed": true,
    "deletable": true,
    "editable": true
   },
   "outputs": [],
   "source": [
    "# create graf\n",
    "g = Graph()\n",
    "g.add_vertices(A_channel_sparce.shape[0])\n",
    "\n",
    "# saved names of channels\n",
    "g.vs.set_attribute_values('name', data_table.columns.levels[1].tolist())\n",
    "\n",
    "for i,j,v in zip(A_channel_sparce.row, A_channel_sparce.col, A_channel_sparce.data):\n",
    "        g.add_edge(i,j,weight=v)"
   ]
  },
  {
   "cell_type": "code",
   "execution_count": 263,
   "metadata": {
    "collapsed": false,
    "deletable": true,
    "editable": true
   },
   "outputs": [
    {
     "data": {
      "text/plain": [
       "'IGRAPH UNW- 40 1022 -- \\n+ attr: name (v), weight (e)'"
      ]
     },
     "execution_count": 263,
     "metadata": {},
     "output_type": "execute_result"
    }
   ],
   "source": [
    "g.summary()"
   ]
  },
  {
   "cell_type": "code",
   "execution_count": 264,
   "metadata": {
    "collapsed": true,
    "deletable": true,
    "editable": true
   },
   "outputs": [],
   "source": [
    "#saved graphml file for Gephi\n",
    "g.save('channels2017_2.graphml')"
   ]
  }
 ],
 "metadata": {
  "anaconda-cloud": {},
  "kernelspec": {
   "display_name": "Python [conda env:py27]",
   "language": "python",
   "name": "conda-env-py27-py"
  },
  "language_info": {
   "codemirror_mode": {
    "name": "ipython",
    "version": 2
   },
   "file_extension": ".py",
   "mimetype": "text/x-python",
   "name": "python",
   "nbconvert_exporter": "python",
   "pygments_lexer": "ipython2",
   "version": "2.7.13"
  }
 },
 "nbformat": 4,
 "nbformat_minor": 2
}
