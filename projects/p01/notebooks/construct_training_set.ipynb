{
 "cells": [
  {
   "cell_type": "code",
   "execution_count": 6,
   "metadata": {
    "collapsed": true
   },
   "outputs": [],
   "source": [
    "import os\n",
    "import csv\n",
    "import gzip\n",
    "from sklearn.model_selection import train_test_split\n",
    "from random import sample"
   ]
  },
  {
   "cell_type": "code",
   "execution_count": 7,
   "metadata": {
    "collapsed": true
   },
   "outputs": [],
   "source": [
    "def parse():\n",
    "    g = gzip.open('../data/Movies_and_TV_5.json.gz', 'rb')\n",
    "    for l in g:\n",
    "        yield eval(l)"
   ]
  },
  {
   "cell_type": "code",
   "execution_count": 8,
   "metadata": {
    "collapsed": true
   },
   "outputs": [],
   "source": [
    "def get_df():\n",
    "    fout = open(\"../data/amazon_preselected.csv\", \"a\", encoding = \"utf-8\")\n",
    "    fout.write('\"label\",\"text\"\\n')\n",
    "    \n",
    "    for d in parse():\n",
    "        if len(d['reviewText']) >= 100:\n",
    "            if d['overall'] >= 4:\n",
    "                fout.write('1,\"' + d['reviewText'] + '\"' + '\\n')\n",
    "                \n",
    "            elif d['overall'] <= 2:\n",
    "                fout.write('0,\"' + d['reviewText'] + '\"' + '\\n')\n",
    "\n",
    "    fout.close()\n",
    "    return 'Done'"
   ]
  },
  {
   "cell_type": "code",
   "execution_count": 9,
   "metadata": {
    "collapsed": true
   },
   "outputs": [],
   "source": [
    "def preselect_movie_reviews():\n",
    "    fout = open(\"../data/movie_reviews_preselected.csv\", \"a\", encoding = \"utf-8\")\n",
    "    fout.write('\"label\",\"text\"\\n')\n",
    "    fin = open(\"../data/movie_reviews.csv\", \"r\", encoding = \"utf-8\")\n",
    "    fin_reader = csv.reader(fin)\n",
    "\n",
    "    next(fin_reader)\n",
    "    for row in fin_reader:\n",
    "        if len(row[1]) >= 100:\n",
    "            fout.write(str(row[0]) + ',\"' + row[1] + '\"' + '\\n')\n",
    "    fin.close()\n",
    "    fout.close()\n",
    "    return 'Done'"
   ]
  },
  {
   "cell_type": "code",
   "execution_count": 10,
   "metadata": {
    "collapsed": true
   },
   "outputs": [],
   "source": [
    "def get_merged_set():\n",
    "    neg_responses = []\n",
    "    pos_responses = []\n",
    "    \n",
    "    fin1 = open(\"../data/amazon_preselected.csv\", \"r\", encoding = \"utf-8\")\n",
    "    fin2 = open(\"../data/movie_reviews_preselected.csv\", \"r\", encoding = \"utf-8\")\n",
    "    \n",
    "    fin1_reader = csv.reader(fin1)\n",
    "    fin2_reader = csv.reader(fin2)\n",
    "    \n",
    "    for row in fin1_reader:\n",
    "        if row[0] == '0':\n",
    "            neg_responses.append(row[1])\n",
    "        else:\n",
    "            pos_responses.append(row[1])\n",
    "            \n",
    "    for row in fin2_reader:\n",
    "        if row[0] == '0':\n",
    "            neg_responses.append(row[1])\n",
    "        else:\n",
    "            pos_responses.append(row[1])\n",
    "    \n",
    "    fin1.close()\n",
    "    fin2.close()\n",
    "    \n",
    "    return neg_responses, pos_responses"
   ]
  },
  {
   "cell_type": "code",
   "execution_count": 11,
   "metadata": {},
   "outputs": [
    {
     "data": {
      "text/plain": [
       "'Done'"
      ]
     },
     "execution_count": 11,
     "metadata": {},
     "output_type": "execute_result"
    }
   ],
   "source": [
    "get_df()"
   ]
  },
  {
   "cell_type": "code",
   "execution_count": 12,
   "metadata": {},
   "outputs": [
    {
     "data": {
      "text/plain": [
       "'Done'"
      ]
     },
     "execution_count": 12,
     "metadata": {},
     "output_type": "execute_result"
    }
   ],
   "source": [
    "preselect_movie_reviews()"
   ]
  },
  {
   "cell_type": "code",
   "execution_count": 13,
   "metadata": {
    "collapsed": true
   },
   "outputs": [],
   "source": [
    "neg, pos = get_merged_set()"
   ]
  },
  {
   "cell_type": "code",
   "execution_count": 14,
   "metadata": {
    "collapsed": true
   },
   "outputs": [],
   "source": [
    "neg_selected = sample(neg, 200000)\n",
    "pos_selected = sample(pos, 200000)"
   ]
  },
  {
   "cell_type": "code",
   "execution_count": 15,
   "metadata": {
    "collapsed": true
   },
   "outputs": [],
   "source": [
    "file_neg = open('../data/train_neg.csv', 'a', encoding = 'utf-8')\n",
    "file_pos = open('../data/train_pos.csv', 'a', encoding = 'utf-8')\n",
    "\n",
    "for response in neg_selected:\n",
    "    file_neg.write('\"' + response + '\"' + '\\n')\n",
    "for response in pos_selected:\n",
    "    file_pos.write('\"' + response + '\"' + '\\n')\n",
    "\n",
    "file_neg.close()\n",
    "file_pos.close()"
   ]
  },
  {
   "cell_type": "code",
   "execution_count": null,
   "metadata": {
    "collapsed": true
   },
   "outputs": [],
   "source": []
  }
 ],
 "metadata": {
  "kernelspec": {
   "display_name": "Python 3",
   "language": "python",
   "name": "python3"
  },
  "language_info": {
   "codemirror_mode": {
    "name": "ipython",
    "version": 3
   },
   "file_extension": ".py",
   "mimetype": "text/x-python",
   "name": "python",
   "nbconvert_exporter": "python",
   "pygments_lexer": "ipython3",
   "version": "3.6.1"
  }
 },
 "nbformat": 4,
 "nbformat_minor": 2
}
