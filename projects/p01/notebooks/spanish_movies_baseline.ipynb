{
 "cells": [
  {
   "cell_type": "code",
   "execution_count": 10,
   "metadata": {
    "collapsed": true
   },
   "outputs": [],
   "source": [
    "import pandas as pd\n",
    "import numpy as np\n",
    "from sklearn.feature_extraction.text import TfidfVectorizer\n",
    "from sklearn.linear_model import LogisticRegression\n",
    "from sklearn.pipeline import Pipeline\n",
    "from sklearn.model_selection import train_test_split\n",
    "from sklearn.metrics import f1_score"
   ]
  },
  {
   "cell_type": "code",
   "execution_count": 5,
   "metadata": {
    "collapsed": true
   },
   "outputs": [],
   "source": [
    "df = pd.read_csv(\"../data/spanish_movies.csv\", sep='|')"
   ]
  },
  {
   "cell_type": "code",
   "execution_count": 6,
   "metadata": {},
   "outputs": [
    {
     "data": {
      "text/html": [
       "<div>\n",
       "<style>\n",
       "    .dataframe thead tr:only-child th {\n",
       "        text-align: right;\n",
       "    }\n",
       "\n",
       "    .dataframe thead th {\n",
       "        text-align: left;\n",
       "    }\n",
       "\n",
       "    .dataframe tbody tr th {\n",
       "        vertical-align: top;\n",
       "    }\n",
       "</style>\n",
       "<table border=\"1\" class=\"dataframe\">\n",
       "  <thead>\n",
       "    <tr style=\"text-align: right;\">\n",
       "      <th></th>\n",
       "      <th>opinion_rating</th>\n",
       "      <th>opinion_text</th>\n",
       "    </tr>\n",
       "  </thead>\n",
       "  <tbody>\n",
       "    <tr>\n",
       "      <th>0</th>\n",
       "      <td>0</td>\n",
       "      <td>Una película clásica en la enfermedad, muy ori...</td>\n",
       "    </tr>\n",
       "    <tr>\n",
       "      <th>1</th>\n",
       "      <td>0</td>\n",
       "      <td>Un científico obsesionado con resucitar cadáve...</td>\n",
       "    </tr>\n",
       "    <tr>\n",
       "      <th>2</th>\n",
       "      <td>0</td>\n",
       "      <td>Si Joaquin Phoenix no ganó el Oscar como mejor...</td>\n",
       "    </tr>\n",
       "    <tr>\n",
       "      <th>3</th>\n",
       "      <td>0</td>\n",
       "      <td>Es lo primero que se me ocurre tras el visiona...</td>\n",
       "    </tr>\n",
       "    <tr>\n",
       "      <th>4</th>\n",
       "      <td>0</td>\n",
       "      <td>Esta es posiblemente la crítica más especial y...</td>\n",
       "    </tr>\n",
       "  </tbody>\n",
       "</table>\n",
       "</div>"
      ],
      "text/plain": [
       "   opinion_rating                                       opinion_text\n",
       "0               0  Una película clásica en la enfermedad, muy ori...\n",
       "1               0  Un científico obsesionado con resucitar cadáve...\n",
       "2               0  Si Joaquin Phoenix no ganó el Oscar como mejor...\n",
       "3               0  Es lo primero que se me ocurre tras el visiona...\n",
       "4               0  Esta es posiblemente la crítica más especial y..."
      ]
     },
     "execution_count": 6,
     "metadata": {},
     "output_type": "execute_result"
    }
   ],
   "source": [
    "df.head()"
   ]
  },
  {
   "cell_type": "code",
   "execution_count": 7,
   "metadata": {},
   "outputs": [
    {
     "data": {
      "text/plain": [
       "0    30096\n",
       "1    12439\n",
       "Name: opinion_rating, dtype: int64"
      ]
     },
     "execution_count": 7,
     "metadata": {},
     "output_type": "execute_result"
    }
   ],
   "source": [
    "df.opinion_rating.value_counts()"
   ]
  },
  {
   "cell_type": "code",
   "execution_count": 35,
   "metadata": {
    "collapsed": true
   },
   "outputs": [],
   "source": [
    "from collections import Counter\n",
    "symbols = Counter(\" \".join(data).lower())"
   ]
  },
  {
   "cell_type": "code",
   "execution_count": 37,
   "metadata": {},
   "outputs": [
    {
     "data": {
      "text/plain": [
       "[(' ', 6934049),\n",
       " ('e', 4371669),\n",
       " ('a', 3821281),\n",
       " ('o', 2702937),\n",
       " ('s', 2383212),\n",
       " ('n', 2344930),\n",
       " ('r', 2043543),\n",
       " ('i', 1864459),\n",
       " ('l', 1798621),\n",
       " ('t', 1499785),\n",
       " ('d', 1480268),\n",
       " ('u', 1448860),\n",
       " ('c', 1402573),\n",
       " ('m', 981577),\n",
       " ('p', 920327),\n",
       " (',', 443727),\n",
       " ('b', 382988),\n",
       " ('g', 375792),\n",
       " ('q', 374319),\n",
       " ('y', 342879),\n",
       " ('.', 341679),\n",
       " ('h', 315426),\n",
       " ('v', 311855),\n",
       " ('f', 239165),\n",
       " ('í', 206896),\n",
       " ('j', 154030),\n",
       " ('ó', 148134),\n",
       " ('á', 142991),\n",
       " ('z', 97669),\n",
       " ('é', 81700),\n",
       " ('x', 51695),\n",
       " ('\"', 48676),\n",
       " ('ñ', 44987),\n",
       " (')', 37227),\n",
       " ('(', 36573),\n",
       " ('ú', 33599),\n",
       " ('k', 31086),\n",
       " ('-', 23520),\n",
       " ('w', 22977),\n",
       " (':', 22840),\n",
       " ('0', 18811),\n",
       " ('1', 16287),\n",
       " ('!', 15042),\n",
       " ('?', 12924),\n",
       " ('/', 12177),\n",
       " ('“', 11370),\n",
       " ('”', 10981),\n",
       " ('2', 10797),\n",
       " ('¿', 9527),\n",
       " (';', 8978),\n",
       " (\"'\", 8356),\n",
       " ('9', 7627),\n",
       " ('3', 5706),\n",
       " ('5', 5306),\n",
       " ('¡', 4425),\n",
       " ('4', 4333),\n",
       " ('8', 4132),\n",
       " ('7', 3689),\n",
       " ('6', 3568),\n",
       " ('…', 3337),\n",
       " ('’', 1570),\n",
       " ('‘', 1349),\n",
       " ('*', 1117),\n",
       " ('ü', 1068),\n",
       " ('–', 865),\n",
       " ('%', 786),\n",
       " ('_', 583),\n",
       " ('[', 566),\n",
       " (']', 565),\n",
       " ('´', 491),\n",
       " ('»', 471),\n",
       " ('«', 462),\n",
       " ('—', 365),\n",
       " ('=', 351),\n",
       " ('&', 312),\n",
       " ('ª', 268),\n",
       " ('@', 249),\n",
       " ('º', 245),\n",
       " ('è', 235),\n",
       " ('+', 234),\n",
       " ('$', 214),\n",
       " ('`', 201),\n",
       " ('à', 174),\n",
       " ('¨', 173),\n",
       " ('>', 167),\n",
       " ('<', 160),\n",
       " ('ö', 144),\n",
       " ('ç', 140),\n",
       " ('·', 119),\n",
       " ('€', 109),\n",
       " ('\\ue335', 105),\n",
       " ('ò', 102),\n",
       " ('★', 102),\n",
       " ('#', 101),\n",
       " ('â', 82),\n",
       " ('ì', 77),\n",
       " ('•', 74),\n",
       " ('ä', 64),\n",
       " ('�', 62),\n",
       " ('́', 53),\n",
       " ('ë', 50),\n",
       " ('^', 48),\n",
       " ('ï', 45),\n",
       " ('ø', 40),\n",
       " ('️', 40),\n",
       " ('å', 39),\n",
       " ('î', 38),\n",
       " ('ô', 36),\n",
       " ('\\u200b', 35),\n",
       " ('°', 22),\n",
       " ('ù', 22),\n",
       " ('―', 21),\n",
       " ('☺', 18),\n",
       " ('❤', 18),\n",
       " ('\\x94', 18),\n",
       " ('♥', 17),\n",
       " ('\\x93', 16),\n",
       " ('\\ufeff', 15),\n",
       " ('~', 14),\n",
       " ('\\ue057', 12),\n",
       " ('û', 11),\n",
       " ('ê', 11),\n",
       " ('¬', 11),\n",
       " ('š', 9),\n",
       " ('⭐', 8),\n",
       " ('ã', 8),\n",
       " ('‡', 7),\n",
       " ('|', 6),\n",
       " ('ł', 6),\n",
       " ('¦', 6),\n",
       " ('‚', 6),\n",
       " ('●', 6),\n",
       " ('̃', 5),\n",
       " ('″', 5),\n",
       " ('„', 5),\n",
       " ('®', 4),\n",
       " ('′', 4),\n",
       " ('ž', 4),\n",
       " ('\\x97', 4),\n",
       " ('œ', 4),\n",
       " ('\\x9d', 4),\n",
       " ('》', 3),\n",
       " ('æ', 3),\n",
       " ('²', 3),\n",
       " ('ý', 3),\n",
       " ('ń', 3),\n",
       " ('\\u202a', 3),\n",
       " ('\\u202c', 3),\n",
       " ('￼', 3),\n",
       " ('˜', 3),\n",
       " ('™', 3),\n",
       " ('\\x90', 3),\n",
       " ('\\x81', 3),\n",
       " ('《', 2),\n",
       " ('ś', 2),\n",
       " ('č', 2),\n",
       " ('³', 2),\n",
       " ('ß', 2),\n",
       " ('½', 2),\n",
       " ('▪', 2),\n",
       " ('ā', 2),\n",
       " ('✨', 2),\n",
       " ('✌', 2),\n",
       " ('¢', 2),\n",
       " ('℅', 2),\n",
       " ('õ', 2),\n",
       " ('ō', 2),\n",
       " ('ş', 2),\n",
       " ('\\\\', 2),\n",
       " ('☆', 2),\n",
       " ('\\ue403', 2),\n",
       " ('ð', 1),\n",
       " ('©', 1),\n",
       " ('ć', 1),\n",
       " ('¹', 1),\n",
       " ('\\xad', 1),\n",
       " ('ṃ', 1),\n",
       " ('∞', 1),\n",
       " ('♢', 1),\n",
       " ('}', 1),\n",
       " ('ī', 1),\n",
       " ('‼', 1),\n",
       " ('♡', 1),\n",
       " ('\\ue415', 1),\n",
       " ('¸', 1),\n",
       " ('➕', 1),\n",
       " ('ˆ', 1),\n",
       " ('×', 1),\n",
       " ('†', 1),\n",
       " ('い', 1),\n",
       " ('た', 1),\n",
       " ('だ', 1),\n",
       " ('き', 1),\n",
       " ('ま', 1),\n",
       " ('す', 1),\n",
       " ('¼', 1)]"
      ]
     },
     "execution_count": 37,
     "metadata": {},
     "output_type": "execute_result"
    }
   ],
   "source": [
    "s"
   ]
  },
  {
   "cell_type": "code",
   "execution_count": 38,
   "metadata": {},
   "outputs": [
    {
     "data": {
      "text/plain": [
       "[' ',\n",
       " 'e',\n",
       " 'a',\n",
       " 'o',\n",
       " 's',\n",
       " 'n',\n",
       " 'r',\n",
       " 'i',\n",
       " 'l',\n",
       " 't',\n",
       " 'd',\n",
       " 'u',\n",
       " 'c',\n",
       " 'm',\n",
       " 'p',\n",
       " ',',\n",
       " 'b',\n",
       " 'g',\n",
       " 'q',\n",
       " 'y',\n",
       " '.',\n",
       " 'h',\n",
       " 'v',\n",
       " 'f',\n",
       " 'í',\n",
       " 'j',\n",
       " 'ó',\n",
       " 'á',\n",
       " 'z',\n",
       " 'é',\n",
       " 'x',\n",
       " '\"',\n",
       " 'ñ',\n",
       " ')',\n",
       " '(',\n",
       " 'ú',\n",
       " 'k',\n",
       " '-',\n",
       " 'w',\n",
       " ':',\n",
       " '0',\n",
       " '1',\n",
       " '!',\n",
       " '?',\n",
       " '/',\n",
       " '“',\n",
       " '”',\n",
       " '2',\n",
       " '¿',\n",
       " ';',\n",
       " \"'\",\n",
       " '9',\n",
       " '3',\n",
       " '5',\n",
       " '¡',\n",
       " '4',\n",
       " '8',\n",
       " '7',\n",
       " '6',\n",
       " '…',\n",
       " '’',\n",
       " '‘',\n",
       " '*',\n",
       " 'ü']"
      ]
     },
     "execution_count": 38,
     "metadata": {},
     "output_type": "execute_result"
    }
   ],
   "source": [
    "s = [(k, symbols[k]) for k in sorted(symbols, key=symbols.get, reverse=True)]\n",
    "res = []\n",
    "for k, v in s:\n",
    "    if v > 1000:\n",
    "        res.append(k)\n",
    "res"
   ]
  },
  {
   "cell_type": "code",
   "execution_count": 42,
   "metadata": {},
   "outputs": [
    {
     "data": {
      "text/plain": [
       "1143.0"
      ]
     },
     "execution_count": 42,
     "metadata": {},
     "output_type": "execute_result"
    }
   ],
   "source": [
    "np.percentile([len(i) for i in data], q=70)"
   ]
  },
  {
   "cell_type": "code",
   "execution_count": 8,
   "metadata": {
    "collapsed": true
   },
   "outputs": [],
   "source": [
    "data = df.opinion_text\n",
    "labels = df.opinion_rating\n",
    "VALIDATION_SPLIT = 0.1\n",
    "RANDOM_SEED = 42"
   ]
  },
  {
   "cell_type": "code",
   "execution_count": 9,
   "metadata": {
    "collapsed": true
   },
   "outputs": [],
   "source": [
    "data_train, data_val, labels_train, labels_val = \\\n",
    "    train_test_split(data, np.asarray(labels, dtype='int8'),\n",
    "                     test_size=VALIDATION_SPLIT, random_state=RANDOM_SEED, stratify=labels)\\"
   ]
  },
  {
   "cell_type": "code",
   "execution_count": 31,
   "metadata": {
    "collapsed": true
   },
   "outputs": [],
   "source": [
    "pipeline_lr = Pipeline([('vectorizer', TfidfVectorizer(ngram_range=(1,7), max_features=1000000, analyzer='char')),\n",
    "                     ('clf_lr', LogisticRegression(C=100, n_jobs=-1))])"
   ]
  },
  {
   "cell_type": "code",
   "execution_count": 32,
   "metadata": {},
   "outputs": [
    {
     "data": {
      "text/plain": [
       "Pipeline(steps=[('vectorizer', TfidfVectorizer(analyzer='char', binary=False, decode_error='strict',\n",
       "        dtype=<class 'numpy.int64'>, encoding='utf-8', input='content',\n",
       "        lowercase=True, max_df=1.0, max_features=1000000, min_df=1,\n",
       "        ngram_range=(1, 7), norm='l2', preprocessor=None, smooth_idf...ty='l2', random_state=None, solver='liblinear', tol=0.0001,\n",
       "          verbose=0, warm_start=False))])"
      ]
     },
     "execution_count": 32,
     "metadata": {},
     "output_type": "execute_result"
    }
   ],
   "source": [
    "pipeline_lr.fit(data_train, labels_train)"
   ]
  },
  {
   "cell_type": "code",
   "execution_count": 33,
   "metadata": {
    "collapsed": true
   },
   "outputs": [],
   "source": [
    "predicted_labels = pipeline_lr.predict(data_val)"
   ]
  },
  {
   "cell_type": "code",
   "execution_count": 30,
   "metadata": {},
   "outputs": [
    {
     "data": {
      "text/plain": [
       "0.85177453027139871"
      ]
     },
     "execution_count": 30,
     "metadata": {},
     "output_type": "execute_result"
    }
   ],
   "source": [
    "f1_score(labels_val, predicted_labels)"
   ]
  },
  {
   "cell_type": "code",
   "execution_count": null,
   "metadata": {
    "collapsed": true
   },
   "outputs": [],
   "source": []
  }
 ],
 "metadata": {
  "kernelspec": {
   "display_name": "Python 3",
   "language": "python",
   "name": "python3"
  },
  "language_info": {
   "codemirror_mode": {
    "name": "ipython",
    "version": 3
   },
   "file_extension": ".py",
   "mimetype": "text/x-python",
   "name": "python",
   "nbconvert_exporter": "python",
   "pygments_lexer": "ipython3",
   "version": "3.6.1"
  }
 },
 "nbformat": 4,
 "nbformat_minor": 2
}
